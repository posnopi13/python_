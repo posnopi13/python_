{
 "cells": [
  {
   "cell_type": "markdown",
   "metadata": {},
   "source": [
    "\n",
    "###문제 1.\n",
    "    L=[1, 2, 3, 4, 5]일 때 다음 각 문장을 수행한 후의 결과를 보고 납득할 만한 이유를 설명하시오.\n",
    "        1)\n",
    "\n",
    "        L[1:3] = [100]\n",
    "        print L\n",
    "\n",
    "        2)\n",
    "\n",
    "        L[1:3] = [(100)]\n",
    "        print L\n",
    "\n",
    "        3)\n",
    "\n",
    "        L[1:3] = 100\n",
    "        print L\n",
    "\n",
    "        4)\n",
    "\n",
    "        L[1:3] = (100)\n",
    "        print L\n",
    "\n",
    "        5)\n",
    "\n",
    "        L[1:3] = (100, 101, 102)\n",
    "        print L\n",
    "\n",
    "        6)\n",
    "\n",
    "        L[1:3] = [100, 101, 102]\n",
    "        print L\n",
    "\n",
    "        7)\n",
    "\n",
    "        L[1:3] = [(100, 101, 102)]\n",
    "        print L\n",
    "\n",
    "        8)\n",
    "\n",
    "        L[1:3] = [[100, 101, 102]]\n",
    "        print L\n",
    "\n"
   ]
  },
  {
   "cell_type": "code",
   "execution_count": 6,
   "metadata": {
    "collapsed": false
   },
   "outputs": [
    {
     "name": "stdout",
     "output_type": "stream",
     "text": [
      "[1, 100, 4, 5]\n"
     ]
    }
   ],
   "source": [
    "L=[1, 2, 3, 4, 5]\n",
    "#1)\n",
    "L[1:3] = [100]\n",
    "print L"
   ]
  },
  {
   "cell_type": "markdown",
   "metadata": {},
   "source": [
    "(1)의 경우 L[1:3]이란 인덱스 1부터 2까지의 리스트 [2,3]이 반환되고 이것을[100]으로 교환하는 것으로 생각하면 된다.\n",
    "그러니 [1, 100, 4, 5]가 출력이 된다."
   ]
  },
  {
   "cell_type": "code",
   "execution_count": 7,
   "metadata": {
    "collapsed": false
   },
   "outputs": [
    {
     "name": "stdout",
     "output_type": "stream",
     "text": [
      "[1, 100, 5]\n"
     ]
    }
   ],
   "source": [
    "#2)\n",
    "L[1:3] = [(100)]\n",
    "print L"
   ]
  },
  {
   "cell_type": "markdown",
   "metadata": {},
   "source": [
    "(2)의 경우 (1)과 마찬가지로 [2,3]이 [(100)]과 교환이 일어나는데 (100)은 그냥 100이므로 (1)과 같은 예제이다.\n",
    "결과적으로 [1,100,5]가 된다."
   ]
  },
  {
   "cell_type": "code",
   "execution_count": 8,
   "metadata": {
    "collapsed": false
   },
   "outputs": [
    {
     "ename": "TypeError",
     "evalue": "can only assign an iterable",
     "output_type": "error",
     "traceback": [
      "\u001b[1;31m---------------------------------------------------------------------------\u001b[0m",
      "\u001b[1;31mTypeError\u001b[0m                                 Traceback (most recent call last)",
      "\u001b[1;32m<ipython-input-8-d3434c0df810>\u001b[0m in \u001b[0;36m<module>\u001b[1;34m()\u001b[0m\n\u001b[0;32m      1\u001b[0m \u001b[1;31m#3)\u001b[0m\u001b[1;33m\u001b[0m\u001b[1;33m\u001b[0m\u001b[0m\n\u001b[1;32m----> 2\u001b[1;33m \u001b[0mL\u001b[0m\u001b[1;33m[\u001b[0m\u001b[1;36m1\u001b[0m\u001b[1;33m:\u001b[0m\u001b[1;36m3\u001b[0m\u001b[1;33m]\u001b[0m \u001b[1;33m=\u001b[0m \u001b[1;36m100\u001b[0m\u001b[1;33m\u001b[0m\u001b[0m\n\u001b[0m\u001b[0;32m      3\u001b[0m \u001b[1;32mprint\u001b[0m \u001b[0mL\u001b[0m\u001b[1;33m\u001b[0m\u001b[0m\n",
      "\u001b[1;31mTypeError\u001b[0m: can only assign an iterable"
     ]
    }
   ],
   "source": [
    "#3)\n",
    "L[1:3] = 100\n",
    "print L"
   ]
  },
  {
   "cell_type": "markdown",
   "metadata": {},
   "source": [
    "(3)의 경우 리스트에 int형을 대입을 하려고 하며 타입의 오류가 일어난다."
   ]
  },
  {
   "cell_type": "code",
   "execution_count": 9,
   "metadata": {
    "collapsed": false
   },
   "outputs": [
    {
     "ename": "TypeError",
     "evalue": "can only assign an iterable",
     "output_type": "error",
     "traceback": [
      "\u001b[1;31m---------------------------------------------------------------------------\u001b[0m",
      "\u001b[1;31mTypeError\u001b[0m                                 Traceback (most recent call last)",
      "\u001b[1;32m<ipython-input-9-d2740a926e70>\u001b[0m in \u001b[0;36m<module>\u001b[1;34m()\u001b[0m\n\u001b[0;32m      1\u001b[0m \u001b[1;31m#4)\u001b[0m\u001b[1;33m\u001b[0m\u001b[1;33m\u001b[0m\u001b[0m\n\u001b[1;32m----> 2\u001b[1;33m \u001b[0mL\u001b[0m\u001b[1;33m[\u001b[0m\u001b[1;36m1\u001b[0m\u001b[1;33m:\u001b[0m\u001b[1;36m3\u001b[0m\u001b[1;33m]\u001b[0m \u001b[1;33m=\u001b[0m \u001b[1;33m(\u001b[0m\u001b[1;36m100\u001b[0m\u001b[1;33m)\u001b[0m\u001b[1;33m\u001b[0m\u001b[0m\n\u001b[0m\u001b[0;32m      3\u001b[0m \u001b[1;32mprint\u001b[0m \u001b[0mL\u001b[0m\u001b[1;33m\u001b[0m\u001b[0m\n",
      "\u001b[1;31mTypeError\u001b[0m: can only assign an iterable"
     ]
    }
   ],
   "source": [
    "#4)\n",
    "L[1:3] = (100)\n",
    "print L"
   ]
  },
  {
   "cell_type": "markdown",
   "metadata": {},
   "source": [
    "(4)의 경우 (3)과 다르지 않다. 튜플을 사용하려면 콤마가 있어야한다."
   ]
  },
  {
   "cell_type": "code",
   "execution_count": 10,
   "metadata": {
    "collapsed": false
   },
   "outputs": [
    {
     "name": "stdout",
     "output_type": "stream",
     "text": [
      "[1, 100, 101, 102]\n"
     ]
    }
   ],
   "source": [
    "#5)\n",
    "L[1:3] = (100, 101, 102)\n",
    "print L"
   ]
  },
  {
   "cell_type": "markdown",
   "metadata": {},
   "source": [
    "(5)의 경우 반환되는 리스트에 튜플을 대입한다. 하지만 L의 타입이 리스트이기 때문에 [100,101,102]와 같은 효과가 생긴다."
   ]
  },
  {
   "cell_type": "code",
   "execution_count": 11,
   "metadata": {
    "collapsed": false
   },
   "outputs": [
    {
     "name": "stdout",
     "output_type": "stream",
     "text": [
      "[1, 100, 101, 102, 102]\n"
     ]
    }
   ],
   "source": [
    "#6)\n",
    "L[1:3] = [100, 101, 102]\n",
    "print L"
   ]
  },
  {
   "cell_type": "markdown",
   "metadata": {},
   "source": [
    "(6)반환되는 리스트 [2,3]과 [100,101,102]를 교환 하는 것인데 반환되는 리스트와 대입하려는 리스트의 개수는 중요하지 않다."
   ]
  },
  {
   "cell_type": "code",
   "execution_count": 12,
   "metadata": {
    "collapsed": false
   },
   "outputs": [
    {
     "name": "stdout",
     "output_type": "stream",
     "text": [
      "[1, (100, 101, 102), 102, 102]\n"
     ]
    }
   ],
   "source": [
    "#7)\n",
    "L[1:3] = [(100, 101, 102)]\n",
    "print L"
   ]
  },
  {
   "cell_type": "markdown",
   "metadata": {},
   "source": [
    "(7) 반환되는 리스트 [2,3]에 튜플을 하나 가지는 리스트와 교환하는 연산이다. 결국 리스트의 대입을 하는 연산이기에 기존 리스트에 튜플원소 하나가 추가되는 모양인 [1, (100, 101, 102), 102, 102]이된다. "
   ]
  },
  {
   "cell_type": "code",
   "execution_count": 13,
   "metadata": {
    "collapsed": false
   },
   "outputs": [
    {
     "name": "stdout",
     "output_type": "stream",
     "text": [
      "[1, [100, 101, 102], 102]\n"
     ]
    }
   ],
   "source": [
    "#8)\n",
    "L[1:3] = [[100, 101, 102]]\n",
    "print L"
   ]
  },
  {
   "cell_type": "markdown",
   "metadata": {},
   "source": [
    "(7)과는 다르게 리스트의 원소로 리스트를 가지는 것을 대입하는 연산이므로 리스트안에 새로운 리트으원소 하나가 추가되는 것이다."
   ]
  },
  {
   "cell_type": "markdown",
   "metadata": {},
   "source": [
    "###문제2\n",
    "문자열 S = 'Hello World and Python'에 대해 다음 요구사항에 대한 Python 코드를 제시하시오.\n",
    "\n",
    "    1) 단어의 순서가 역순으로 되어진 문자열 ('Python and World Hello')을 만들고\n",
    "    2) 1)의 결과 문자열에 대해 메소드 split과 join을 이용하여 공백을 모두 없엔 문자열 'PythonandWorldHello'을 만드시오.\n"
   ]
  },
  {
   "cell_type": "code",
   "execution_count": 22,
   "metadata": {
    "collapsed": false
   },
   "outputs": [
    {
     "name": "stdout",
     "output_type": "stream",
     "text": [
      "Python and World Hello\n",
      "HelloWorldandPython\n",
      "<listreverseiterator object at 0x0000000003BD9160>\n"
     ]
    }
   ],
   "source": [
    "S='Hello World and Python'\n",
    "A=S.split()\n",
    "reversed_S=(' ').join(reversed(A))\n",
    "modi_A=('').join(A)\n",
    "print reversed_S\n",
    "print modi_A"
   ]
  },
  {
   "cell_type": "markdown",
   "metadata": {},
   "source": [
    "해설)  \n",
    "우선 문자열을 공백단위로 분할하여 리스트로 저장한다.  \n",
    "(1) 단어 단위가 역순으로 뒤집어진 문자열 출력\n",
    "리스트를 역순으로 만드는 reversed()메소드를 이용하여 리스트의 내부를 변환하지 않고 새로운 리스트를 join()을 사용하여 공백을 가진 형태로 합한다.  \n",
    "(2) 공백을 없앤 문자열 출력\n",
    "문자열을 공백단위로 분할한뒤 공백이 없는 문자열로 join()을 이용하여 생성한다."
   ]
  },
  {
   "cell_type": "markdown",
   "metadata": {},
   "source": [
    "\n",
    "###문제3\n",
    "    다음 코드를 보고 물음에 답하시오.\n",
    "\n",
    "    a = [1, 2, 3]\n",
    "    b = a * 3\n",
    "    c = [a] * 3\n",
    "    print b\n",
    "    print c\n",
    "\n",
    "        1) 위 코드를 수행한 이후 다음 코드를 수행한 후 b와 c의 내용을 확인하시오.\n",
    "\n",
    "        a[0]=0\n",
    "\n",
    "        2) b와 c 객체의 차이는 무엇인가?\n",
    "\n"
   ]
  },
  {
   "cell_type": "code",
   "execution_count": 24,
   "metadata": {
    "collapsed": false
   },
   "outputs": [
    {
     "name": "stdout",
     "output_type": "stream",
     "text": [
      "[1, 2, 3, 1, 2, 3, 1, 2, 3]\n",
      "[[1, 2, 3], [1, 2, 3], [1, 2, 3]]\n",
      "\n",
      "[1, 2, 3, 1, 2, 3, 1, 2, 3]\n",
      "[[0, 2, 3], [0, 2, 3], [0, 2, 3]]\n"
     ]
    }
   ],
   "source": [
    "a = [1, 2, 3]\n",
    "b = a * 3\n",
    "c = [a] * 3\n",
    "print b\n",
    "print c\n",
    "print\n",
    "a[0]=0\n",
    "print b\n",
    "print c"
   ]
  },
  {
   "cell_type": "markdown",
   "metadata": {},
   "source": [
    "해설)  \n",
    "a[0]=0의 실행 이후 b에서는 차이가 없으나 c에서는 각 원소의 첫번째 값이 0이 되었다.\n",
    "그 이유는 b의 경우 a의 당시의 값의 3번 반복이고 그 이후 b와 a의 연결고리가 없다.\n",
    "하지만 c의 경우에는 a를 원소로 가진다. 즉, a의 현재의 값이 c에 영향을 준다.\n",
    "그렇기에 a의 원소 중 첫번째 값을 변경하면 그 변경된 값이 c에 반영이 되는 것이다."
   ]
  },
  {
   "cell_type": "markdown",
   "metadata": {},
   "source": [
    "###문제4.  \n",
    "다음 문자열을 ':'을 기준으로 분리하여 리스트로 만들고 각 문자열의 좌우 공백을 제거하시오 (즉, 문자열 S에서 l을 만들어라)\n",
    "\n",
    "s = '  first star   :   second star   :    third star  '\n",
    "l = ['first star', 'second star', 'third star']\n",
    "\n",
    "    1) for ~ in 문을 이용한 코드를 작성하시오.\n",
    "    2) 리스트 내포(list comprehension)를 이용한 코드를 작성하시오.\n"
   ]
  },
  {
   "cell_type": "code",
   "execution_count": 27,
   "metadata": {
    "collapsed": false
   },
   "outputs": [
    {
     "name": "stdout",
     "output_type": "stream",
     "text": [
      "['first star', 'second star', 'third star']\n"
     ]
    }
   ],
   "source": [
    "s = ' first star : second star : third star '\n",
    "l=s.split(':')\n",
    "for i in range(len(l)):\n",
    "    l[i]=l[i].strip()\n",
    "print l    "
   ]
  },
  {
   "cell_type": "markdown",
   "metadata": {},
   "source": [
    "해설)  \n",
    "문제에서 제시한 대로 ':'을 기준으로 나눈뒤 앞뒤의 문자열 공백을제거해주는 strip()메소드를 리스트의 처음부터 끝까지 써주어야 한다. for ~ in 문을 l의 길이만 큼해주어야 하기 때문에 len()메소드를 사용하여 순서대로 앞뒤 문자공백이 제거된 문자열을 새롭게 리스트의 원소로 저장한다. "
   ]
  },
  {
   "cell_type": "markdown",
   "metadata": {},
   "source": [
    "###문제5.\n",
    "다음과 같이 0보다 큰 정수 리스트 변수 list를 인자로 받는 함수 addall(list)와 addallodd(list)를 for ~ in 리터널과 리스트 내포 방식으로 각각 제시하시오.\n",
    "\n",
    "    1) addall(list) 함수 (리스트 내의 모든 정수를 더하는 함수로서 해답으로는 for ~ in 리터럴과 리스트 내포 방식으로 각각 제시하시오.)\n",
    "\n",
    "        >>> addall([1])\n",
    "        1\n",
    "\n",
    "        >>> addall([1, 2, 3, 4, 5, 6, 7, 8, 9])\n",
    "        45\n",
    "\n",
    "    2) addallodd(list) 함수 (리스트내의 모든 홀수를 더하는 함수로서 해답으로는 for ~ in 리터럴과 리스트 내포 방식으로 각각 제시하시오.)\n",
    "\n",
    "        >>> addallodd([1])\n",
    "        1\n",
    "\n",
    "        >>> addallodd([1, 2, 3, 4, 5, 6, 7, 8, 9])\n",
    "        25\n",
    "\n",
    "    [참고]: 리스트 내포 방식으로 addall() 및 addallodd()함수를 만들 때엔 리스트 내포에 의해 생성된 리스트 결과에 대해 내장 함수를 사용하는 방식을 고려해보시오 (주의: 리스트 내포 방식의 addall() 및 addallodd() 함수의 몸체는 단 1줄로 작성되어야 한다.)\n",
    "\n",
    "\n"
   ]
  },
  {
   "cell_type": "code",
   "execution_count": 2,
   "metadata": {
    "collapsed": false
   },
   "outputs": [
    {
     "name": "stdout",
     "output_type": "stream",
     "text": [
      "1\n",
      "1\n",
      "45\n",
      "45\n",
      "25\n",
      "25\n"
     ]
    }
   ],
   "source": [
    "def addall_1(a):\n",
    "     print sum([i for i in a])\n",
    "def addall_2(a):\n",
    "    sum=0\n",
    "    for i in a:\n",
    "        sum=sum+i\n",
    "    print sum    \n",
    "        \n",
    "def addallodd_1(a):\n",
    "    print sum([i for i in a if i%2])\n",
    "def addallodd_2(a):\n",
    "    sum=0\n",
    "    for i in a:\n",
    "        if i%2:\n",
    "            sum=sum+i\n",
    "    print sum\n",
    "addall_1([1])\n",
    "addall_2([1])\n",
    "addall_1([1, 2, 3, 4, 5, 6, 7, 8, 9])\n",
    "addall_2([1, 2, 3, 4, 5, 6, 7, 8, 9])\n",
    "addallodd_1([1, 2, 3, 4, 5, 6, 7, 8, 9])\n",
    "addallodd_2([1, 2, 3, 4, 5, 6, 7, 8, 9])"
   ]
  },
  {
   "cell_type": "markdown",
   "metadata": {},
   "source": [
    "해설)  \n",
    "이번 문제는 내포리스트와 보통 for문을 사용하여 문제를 해결하는 경우를 비교하는 경우이다. 첫번째로 모든 리스트를 더하는 경우이다. \n",
    "\n",
    "\n",
    "\n",
    "1.내포리스트를 사용하여 모든 리스트의 값을 더하는 모듈 addall\n",
    "일단 크게 내포리스트를 어렵게 생각하지 않았다. 다만 []가 있을 경우 사용할 수 있는 또 다른 for문 이라고 생각하였다.\n",
    " 그리고 그 결과는 리스트이다. 그렇기에 sum내부함수를 이용하여 리스트의 합을 구하였다.\n",
    "2. for문 을 이용하여 addall만들기\n",
    "원소하나하나를 b변수에 다 넣은 뒤 sum에 그에 그 값을 더하는 방법으로 구현 하였다.\n",
    "3. 내포리스트를 사용한 홀수값만 더하는 addallodd만들기\n",
    "아까 말했듯이 내포리스트는 단순히 []안에서 사용되는 리스트라고 생각하였기에 for i in a 에서 홀수만 허용한다는 조건 if not i%2를 붙인 뒤 출력되는 리스트를 sum모듈을 이용하여 전부 더하였다.\n",
    "4. 일반 for문을 이용한 홀수를 더하는 addallodd만들기\n",
    "리스트의 모든 원소에 대하여 for문을 반복하며 조건문으로 홀수인 경우를 구분하는 if not i%2 일 경우에 리스트에 넣은 뒤 sum에 리스트안에 있는 모든원소의 합을 출력하는 방법으로 구현하였다.    "
   ]
  },
  {
   "cell_type": "markdown",
   "metadata": {},
   "source": [
    "\n",
    "###문제6.\n",
    "    다음 코드를 보고 물음에 답하시오.\n",
    "\n",
    "    L1 = [1, 2, 3]\n",
    "    L2 = [4, 5, 6]\n",
    "    d = {'low':L1, 'high':L2}\n",
    "    e = d\n",
    "    f = d.copy()\n",
    "    print d\n",
    "    print e\n",
    "    print f\n",
    "    print\n",
    "    d['low'] = [10, 20, 30]\n",
    "    d['high'][1] = 500\n",
    "    print d\n",
    "    print e\n",
    "    print f\n",
    "\n",
    "        1) 위 코드의 수행 결과 d와 e는 항상 같은 결과를 출력한다. 그 이유는 무엇인가?\n",
    "        2) 위 코드의 수행 결과 마지막 f의 내용은 다음과 같다. 이 때 'high' 키의 값 내용 중 500이 출력된 이유와 'low' 키의 값 내용 중 [1, 2, 3]이 출력된 이유를 설명하시오 ([hint]: shallow copy 관점에서 설명하시오.)\n",
    "\n",
    "        {'high': [4, 500, 6], 'low': [1, 2, 3]}\n",
    "\n"
   ]
  },
  {
   "cell_type": "code",
   "execution_count": 28,
   "metadata": {
    "collapsed": false
   },
   "outputs": [
    {
     "name": "stdout",
     "output_type": "stream",
     "text": [
      "{'high': [4, 5, 6], 'low': [1, 2, 3]}\n",
      "{'high': [4, 5, 6], 'low': [1, 2, 3]}\n",
      "{'high': [4, 5, 6], 'low': [1, 2, 3]}\n",
      "\n",
      "{'high': [4, 500, 6], 'low': [10, 20, 30]}\n",
      "{'high': [4, 500, 6], 'low': [10, 20, 30]}\n",
      "{'high': [4, 500, 6], 'low': [1, 2, 3]}\n"
     ]
    }
   ],
   "source": [
    "L1 = [1, 2, 3]\n",
    "L2 = [4, 5, 6]\n",
    "d = {'low':L1, 'high':L2}\n",
    "e = d#같은 저장공간을 가리킨다. e는 d와 항상 같은 값\n",
    "f = d.copy()#shallow copy를 한다. / d의 원소가 변수일 경우 그 변수가 가리키는 값은 같은 값이 된다.\n",
    "print d\n",
    "print e\n",
    "print f\n",
    "print\n",
    "d['low'] = [10, 20, 30]\n",
    "d['high'][1] = 500\n",
    "print d\n",
    "print e\n",
    "print f"
   ]
  },
  {
   "cell_type": "markdown",
   "metadata": {},
   "source": [
    "해설)  \n",
    "1) d와 e는 변수이다. 파이썬에서 모든 변수는 객체이다. 그렇기에 d=e가 의미하는 것은 e가 가리키고 있는 객체를 d도 같이 가리키고 있는 것이기다. 즉 , 같은 객체를 가리키도 있는 변수이기에 항상 같은 값이 된다.\n",
    "\n",
    "2) copy()메소드는 shallow copy를 실행한다. f=d.copy()는 d의 원소를 복사해서 새로운 객체를 만든다. 하지만 객체내의 변수는 복사가 되었을 뿐 변수가 가리키는 변수까지 복사가 되지 않는다. 그렇기에 내부적으로는 같은 객체를 기리키고 있기에 f의 'high'가 가리키고 있는 객체 L2는 다른 객체이지만 L2가 가리키고 잇는 객체는 [4,5,6]으로 같은 객체를 가리키기에 L2가 가리키는 변수를 변경하는 경우 f의 값 마저 변하게 되는 것이다."
   ]
  },
  {
   "cell_type": "markdown",
   "metadata": {},
   "source": [
    "###문제7\n",
    "사전 d = {'one':1, 'two':2, 'three':3, 'four':4, 'five':5}가 주어졌을 때 다음 요구사항에 맞는 코드를 제시하시오\n",
    "\n",
    "    [참고]: d.keys(), d.values()를 통해 리스트를 얻어낸 후 리스트가 지니고 있는 sort(cmp=None, key=None, reverse=False)함수를 활용하시오.\n",
    "    1) 키의 알파벳 오름차순 순서대로 튜플 (키, 값)을 차례대로 출력하시오.\n",
    "    2) 키의 알파벳 내림차순 순서대로 튜플 (키, 값)을 차례대로 출력하시오.\n",
    "    3) 값의 오름차순 순서대로 튜플 (키, 값)을 차례대로 출력하시오.\n",
    "    4) 값의 내림차순 순서대로 튜플 (키, 값)을 차례대로 출력하시오.\n"
   ]
  },
  {
   "cell_type": "code",
   "execution_count": 4,
   "metadata": {
    "collapsed": false
   },
   "outputs": [
    {
     "name": "stdout",
     "output_type": "stream",
     "text": [
      "1) 키의 알파벳 오름차순 순서대로 튜플 (키, 값)을 차례대로 출력하시오.\n",
      "('five', 5)\n",
      "('four', 4)\n",
      "('one', 1)\n",
      "('three', 3)\n",
      "('two', 2)\n",
      "\n",
      "2) 키의 알파벳 내림차순 순서대로 튜플 (키, 값)을 차례대로 출력하시오.\n",
      "('two', 2)\n",
      "('three', 3)\n",
      "('one', 1)\n",
      "('four', 4)\n",
      "('five', 5)\n",
      "\n",
      "3) 값의 오름차순 순서대로 튜플 (키, 값)을 차례대로 출력하시오.\n",
      "('one', 1)\n",
      "('two', 2)\n",
      "('three', 3)\n",
      "('four', 4)\n",
      "('five', 5)\n",
      "\n",
      "4) 값의 내림차순 순서대로 튜플 (키, 값)을 차례대로 출력하시오.\n",
      "('five', 5)\n",
      "('four', 4)\n",
      "('three', 3)\n",
      "('two', 2)\n",
      "('one', 1)\n"
     ]
    }
   ],
   "source": [
    "d = {'one':1, 'two':2, 'three':3, 'four':4, 'five':5}\n",
    "key_d=d.keys()\n",
    "values_d=d.values()\n",
    "key_d.sort(key=str)\n",
    "\n",
    "print '1) 키의 알파벳 오름차순 순서대로 튜플 (키, 값)을 차례대로 출력하시오.'\n",
    "for key in key_d:\n",
    "    print (key,d[key])\n",
    "print \n",
    "\n",
    "print \"2) 키의 알파벳 내림차순 순서대로 튜플 (키, 값)을 차례대로 출력하시오.\"\n",
    "key_d.sort(key=str,reverse=True)\n",
    "for key in key_d:\n",
    "    print (key,d[key])\n",
    "print    \n",
    "print '3) 값의 오름차순 순서대로 튜플 (키, 값)을 차례대로 출력하시오.'\n",
    "def mycmp(a1,a2):\n",
    "    return cmp(a1[1],a2[1])\n",
    "list_d=[]\n",
    "for i in d:\n",
    "    a=(i,d[i])\n",
    "    list_d.append(a)\n",
    "list_d.sort(mycmp)\n",
    "for i in list_d:\n",
    "    print i\n",
    "print    \n",
    "print '4) 값의 내림차순 순서대로 튜플 (키, 값)을 차례대로 출력하시오.'\n",
    "def mycmp_reverse(a1,a2):\n",
    "    return cmp(a2[1],a1[1])\n",
    "list_d.sort(mycmp_reverse)\n",
    "for i in list_d:\n",
    "    print i"
   ]
  },
  {
   "cell_type": "markdown",
   "metadata": {},
   "source": [
    "해설)  \n",
    "1) 키의 알파벳 오름차순 순서대로 튜플 (키, 값)을 차례대로 출력하시오.\n",
    "주어진 사전 형식에서 key를 리스트형태로 추출한 뒤 리스트의 메소드인 sort를 사용하는데 이때 key는 문자열 형식이다 그렇기에 사실 기본값으로 문자열 sorting을 하겠지만 명시적으로 key=str를 인자로 넘겨서 정렬을 한뒤 차례대로 인덱스값을 부르며 정렬을 하였다.\n",
    "\n",
    "2) 키의 알파벳 내림차순 순서대로 튜플 (키, 값)을 차례대로 출력하시오.\n",
    "이 문제는 1)의 과정에서 reverse=True를 추가한 인자의 형태를 넘겨서 정렬하면 쉽게 해결할 수 있다.\n",
    "\n",
    "3) 값의 오름차순 순서대로 튜플 (키, 값)을 차례대로 출력하시오.\n",
    "key,value를 추출하여 리스트에 튜플형태로 넘긴 뒤 리스트에서 sort함수를 호출한다. 이때 새롭게 정의한 mycmp를 활용하여 정렬을 하는데 mycmp는 각 원소의 2번째 값을 이용한 정렬을 하도록 a[1],b[1]을 cmp의 인자로 넘기는 형식을 취하여 정렬을 한다.\n",
    "\n",
    "4) 값의 내림차순 순서대로 튜플 (키, 값)을 차례대로 출력하시오.\n",
    "3)의 문제해결을 응용하여 리스트의 원소를 튜플의 형태로 넘긴 원사에서 원자의 순서를 바꿔서 cmp에 원소로 넘기는 mycmp를 정의한다.\n",
    "\n",
    "이번 문제들의 경우 사전의 items를 이용하여 3),4) 문제를 해결할 수도 있으나 메소드의 도움없이 해결해보았다."
   ]
  },
  {
   "cell_type": "markdown",
   "metadata": {},
   "source": [
    "###문제8. 오일러7\n",
    "\n",
    "소수를 크기 순으로 나열하면 2, 3, 5, 7, 11, 13, ... 과 같이 됩니다.\n",
    "\n",
    "이 때 10,001번째의 소수를 구하세요."
   ]
  },
  {
   "cell_type": "code",
   "execution_count": 39,
   "metadata": {
    "collapsed": false
   },
   "outputs": [
    {
     "name": "stdout",
     "output_type": "stream",
     "text": [
      "104743\n",
      "count_number 10001\n"
     ]
    }
   ],
   "source": [
    "import math\n",
    "def find_sosu(a):\n",
    "    count=2\n",
    "    while count<=math.sqrt(a):\n",
    "        if a%count==0:\n",
    "            return False\n",
    "        count=count+1\n",
    "    #print 'a : ',a    \n",
    "    return True\n",
    "\n",
    "count_number=1\n",
    "for i in range(3,150000,2):\n",
    "    if find_sosu(i):\n",
    "        count_number=count_number+1\n",
    "    if count_number==10001:\n",
    "        print i\n",
    "        break;\n",
    "print 'count_number',count_number    "
   ]
  },
  {
   "cell_type": "markdown",
   "metadata": {},
   "source": [
    "해설) \n",
    "소수를 판별하는 방법은 value의 1을 제외한 제곱근에 근사한 값으로 나누어서 떨어지지 않는다면 소수가 된다.\n",
    "이때 range를 활용하여 3으로부터 2의 각격으로 홀수를 반환하는 리스트를 구성후 리스트의 원소를 처음부터 소수검사를 하여\n",
    "소수인 경우 count_number의 값을 카운트한다. 그 후 count_number가 10001이 되는 순간 해당 숫자를 출력 후 for문을 탈출하는 방식으로\n",
    "해겨하였다.\n",
    "\n"
   ]
  },
  {
   "cell_type": "markdown",
   "metadata": {},
   "source": [
    "###문제9. 오일러8\n",
    "다음은 연속된 1000자리 숫자입니다 (읽기 좋게 50자리씩 잘라놓음).\n",
    "\n",
    "73167176531330624919225119674426574742355349194934\n",
    "96983520312774506326239578318016984801869478851843\n",
    "85861560789112949495459501737958331952853208805511\n",
    "12540698747158523863050715693290963295227443043557\n",
    "66896648950445244523161731856403098711121722383113\n",
    "62229893423380308135336276614282806444486645238749\n",
    "30358907296290491560440772390713810515859307960866\n",
    "70172427121883998797908792274921901699720888093776\n",
    "65727333001053367881220235421809751254540594752243\n",
    "52584907711670556013604839586446706324415722155397\n",
    "53697817977846174064955149290862569321978468622482\n",
    "83972241375657056057490261407972968652414535100474\n",
    "82166370484403199890008895243450658541227588666881\n",
    "16427171479924442928230863465674813919123162824586\n",
    "17866458359124566529476545682848912883142607690042\n",
    "24219022671055626321111109370544217506941658960408\n",
    "07198403850962455444362981230987879927244284909188\n",
    "84580156166097919133875499200524063689912560717606\n",
    "05886116467109405077541002256983155200055935729725\n",
    "71636269561882670428252483600823257530420752963450\n",
    "\n",
    "여기서 붉게 표시된 71112의 경우 7, 1, 1, 1, 2 각 숫자를 모두 곱하면 14가 됩니다.\n",
    "\n",
    "이런 식으로 맨 처음 (7 × 3 × 1 × 6 × 7 = 882) 부터 맨 끝 (6 × 3 × 4 × 5 × 0 = 0) 까지 5자리 숫자들의 곱을 구할 수 있습니다.\n",
    "이렇게 구할 수 있는 5자리 숫자의 곱 중에서 가장 큰 값은 얼마입니까?"
   ]
  },
  {
   "cell_type": "code",
   "execution_count": 55,
   "metadata": {
    "collapsed": false
   },
   "outputs": [
    {
     "name": "stdout",
     "output_type": "stream",
     "text": [
      "40824\n"
     ]
    }
   ],
   "source": [
    "a=\"7316717653133062491922511967442657474235534919493496983520312774506326239578318016984801869478851843858615607891129494954595017379583319528532088055111254069874715852386305071569329096329522744304355766896648950445244523161731856403098711121722383113622298934233803081353362766142828064444866452387493035890729629049156044077239071381051585930796086670172427121883998797908792274921901699720888093776657273330010533678812202354218097512545405947522435258490771167055601360483958644670632441572215539753697817977846174064955149290862569321978468622482839722413756570560574902614079729686524145351004748216637048440319989000889524345065854122758866688116427171479924442928230863465674813919123162824586178664583591245665294765456828489128831426076900422421902267105562632111110937054421750694165896040807198403850962455444362981230987879927244284909188845801561660979191338754992005240636899125607176060588611646710940507754100225698315520005593572972571636269561882670428252483600823257530420752963450\"\n",
    "b=[]\n",
    "max=0\n",
    "for i in a:\n",
    "    b.append(i)\n",
    "count=0\n",
    "while count<995:\n",
    "    if b[count+4]=='0':\n",
    "        count=count+5\n",
    "        continue\n",
    "    if max<eval(b[count]+'*'+b[count+1]+'*'+b[count+2]+'*'+b[count+3]+'*'+b[count+4]):\n",
    "        max=eval(b[count]+'*'+b[count+1]+'*'+b[count+2]+'*'+b[count+3]+'*'+b[count+4])\n",
    "    count=count+1\n",
    "print max    "
   ]
  },
  {
   "cell_type": "markdown",
   "metadata": {},
   "source": [
    "해설)  \n",
    "우선 문자열로 된 값을 리스트로 분해한다.\n",
    "이후 문제에서 조건대로 리스트의 연속된 5가지의 곱을 구하며 최대값을 구한다.\n",
    "약간이나마 속도의 향상을위해서 5번째수가 0이라면 커서의 위치를 5만큼 이동하여 연산을 제외한다.\n",
    "이후 문자열로된 값을 eval()함수를 이용하여 evaluation 값으로 바꾸어 계산을 하며 최대값을 찾는다."
   ]
  },
  {
   "cell_type": "markdown",
   "metadata": {},
   "source": [
    "###문제10. 오일러9\n",
    "세 자연수 a, b, c 가 피타고라스 정리 a2 + b2 = c2 를 만족하면 피타고라스 수라고 부릅니다 (여기서 a < b < c ).\n",
    "예를 들면 32 + 42 = 9 + 16 = 25 = 52이므로 3, 4, 5는 피타고라스 수입니다.\n",
    "\n",
    "a + b + c = 1000 인 피타고라스 수 a, b, c는 한 가지 뿐입니다. 이 때, a × b × c 는 얼마입니까?"
   ]
  },
  {
   "cell_type": "code",
   "execution_count": 56,
   "metadata": {
    "collapsed": false
   },
   "outputs": [
    {
     "name": "stdout",
     "output_type": "stream",
     "text": [
      "200 375 425\n"
     ]
    }
   ],
   "source": [
    "import math\n",
    "for a in range(1,335):\n",
    "    for b in range(a,501):\n",
    "        for c in range(b,998):\n",
    "            if a**2+b**2==c**2:\n",
    "                if a+b+c==1000:\n",
    "                    print a,b,c\n",
    "    "
   ]
  },
  {
   "cell_type": "markdown",
   "metadata": {},
   "source": [
    "해설)  \n",
    "정직하게 조건대로 하나하나 값을 찾아보는 알고리즘이다 대신 그나마 연산을 줄이고자 주어진 조건을 활용하여 a<b<c를 준다. 그리고 조건\n",
    "a+b+c=1000과 a**2 + b**2 = c**2인 값을 찾아 출력한다."
   ]
  },
  {
   "cell_type": "markdown",
   "metadata": {},
   "source": [
    "###문제11.\n",
    "\n",
    "    [Incremental Project] 이전 Assignment 2의 마지막 문제는 웹 URL로 지정된 웹페이지를 문자열로 가져와 모든 HTML 태그 및 CSS와 Javascript를 제외한 순수 텍스트를 얻어내고 그 안에 존재하는 단어를 추출하고 단어들의 총 개수를 출력하는 프로그램을 작성하는 것이었다. 이번에는 그 마지막 숙제를 그대로 확장하여 웹 URL로 지정된 웹페이지 내 순수 텍스트 안에 존재하는 각 단어들에 대해 다음 요구사항 대로 출력하는 프로그램을 작성하시오.  \n",
    "    \n",
    "        요구사항 1. 순수 텍스트 안에 존재하는 단어들에 대해 string 모듈을 활용하여 모든 punctuation (구두문자)를 완벽히 제거하시오.\n",
    "            예: ['world!', ':', '+hello+', '~python$$$', '=', 'world'] ---> ['world', 'hello', 'python', 'world']\n",
    "            모든 punctuation을 확인하는 방법은 아래와 같다.\n",
    "\n",
    "            import string\n",
    "            print string.punctuation\n",
    "\n",
    "        요구사항 2. 만약 punctuation (구두문자)를 제거한 이후 공백으로 판명되는 단어들은 해당 단어 리스트에서 제거하시오.\n",
    "            예: ['컴퓨터공학부!', '---?', '%지향~', '...'] ---> ['컴퓨터공학부', '지향']  \n",
    "            \n",
    "        요구사항 3. 각 단어들의 출현빈도를 사전형태로 저장하여 출력하시오.\n",
    "            예: ['world', 'hello', 'python', 'world', '컴퓨터공학부', '지향'] ---> {'world': 2, 'hello': 1, 'python': 1, '컴퓨터공학부': 1, '지향': 1}  \n",
    "            \n",
    "        요구사항 4. 다음 3개의 사이트에 대한 결과를 출력하시오.\n",
    "            http://www.naver.com\n",
    "            http://www.daum.net\n",
    "            http://www.nytimes.com\n",
    "\n"
   ]
  },
  {
   "cell_type": "code",
   "execution_count": 3,
   "metadata": {
    "collapsed": false
   },
   "outputs": [
    {
     "name": "stdout",
     "output_type": "stream",
     "text": [
      "------------------------------------------------------------------------------------------------------------\n",
      "동시에 : 1 code : 1 tsNormal : 1 글로벌 : 1 일괄 : 1 상태 : 1 global : 1 초대권 : 2 위하여 : 1 오픈캐스트 : 1 나눔글꼴이 : 1 2단계 : 1 라이브 : 1 무비토크 : 2 방문자를 : 1 종료에 : 1 까지 : 1 강도 : 1 검색결과 : 1 예능 : 1 사용 : 2 vs : 2 본 : 2 기념 : 1 init : 1 회원으로 : 1 모두 : 2 듣는 : 1 오브젝트의 : 1 위에 : 1 다시 : 6 두번째 : 1 검색어 : 6 return : 5 상반기 : 1 ckeys : 1 get : 1 자동완성 : 2 놓고 : 1 보기 : 1 결국 : 1 기존 : 1 검색어가 : 1 NewsStand : 1 찾는 : 1 기록을 : 1 not : 1 급식감시…CCTV : 1 ntop2 : 1 브랜드에 : 1 경우 : 1 길고양이 : 2 엔터 : 1 우리 : 2 검색어로 : 1 때는 : 4 사람에게 : 2 플랫폼 : 1 지글아이 : 1 제공되지 : 1 try : 3 충암고동문회 : 1 숨겨주는 : 1 자주 : 1 삼시세끼 : 1 순 : 2 수 : 1 newspaperUrl : 1 앱 : 4 set : 1 설치된 : 1 빠른 : 1 않아 : 1 임신시킨 : 1 전송은 : 1 동네 : 2 버튼을 : 4 NAVER : 1 사용하고 : 1 event : 2 목요일 : 2 ntop3 : 1 재보궐선거 : 1 시에 : 1 Noti : 1 완벽히 : 2 re : 1 중 : 3 16분간 : 1 설치 : 1 임의로 : 1 납치 : 1 new : 1 newsStandUrl : 1 의장대 : 1 XHRObject : 1 美제공내역 : 1 opencastUrl : 1 40대 : 1 폰트를 : 1 검색해 : 1 켤 : 4 이대호 : 1 Themecast : 1 quickNews : 2 headlineList : 2 PC에서 : 1 고마워 : 1 및 : 3 각 : 1 선거일까지 : 1 원작을 : 2 전해주는 : 2 확인 : 1 유형 : 1 경기 : 3 선택하여 : 1 나눔글꼴 : 1 재방송 : 2 주요 : 3 인 : 2 이용을 : 1 범위 : 1 이 : 4 라이센스 : 2 내 : 3 검색어는 : 1 해 : 1 1시간 : 1 29일 : 2 전체회의서 : 1 치킨 : 2 경우에 : 1 않는 : 1 보세요 : 1 로그인시키는 : 2 확정…작별상봉 : 1 60대여성 : 1 집무실 : 1 ntop1 : 1 다운로드 : 2 맑고…내륙 : 3 통합검색에서의 : 1 엄청난 : 2 coin : 1 localStorge : 2 韓이용자정보 : 1 FS : 1 이채언루트 : 1 앱을 : 1 아파트 : 1 켜져 : 2 정책 : 1 isLogin : 1 설정 : 1 사랑해 : 1 var : 31 isIPAD : 1 userInfoUrl : 1 로직 : 1 500 : 1 function : 11 급상승 : 1 저장되지 : 1 기능을 : 1 연예기획사대표 : 1 될 : 2 제임스 : 2 myNewsStand : 1 하루만에 : 1 보호를 : 1 레이어 : 4 플레이어를 : 1 else : 3 개인정보 : 1 저장 : 2 isSupportedFlicking : 1 검색어를 : 2 국정화 : 1 임대주택 : 1 CommonFn : 1 최대 : 1 네이버 : 2 IPAD : 1 쓰는 : 1 도움말 : 2 최고↑…연초比 : 1 대해 : 1 isOnload : 2 bill : 1 삭제한 : 1 로스트 : 1 PC에서는 : 1 isMyCast : 1 기능이 : 5 전세 : 1 이유는 : 1 말을 : 2 메인뉴스 : 1 상영 : 3 ncast : 1 공연 : 2 국사편찬위 : 1 catch : 2 codeElement : 1 아이디로 : 2 false : 1 촬영장 : 2 opencastNTopUrl : 1 달의 : 2 동작하지 : 1 is : 2 getXHRObject : 1 모든 : 2 무료로 : 2 전체 : 2 신청 : 1 나눔글꼴로 : 1 strHost : 1 error : 1 수행 : 2 생선인간이 : 2 Flicking : 1 아이콘을 : 1 찾은 : 1 박스오피스 : 1 몇 : 2 20주년 : 1 태국이 : 1 전격 : 1 사용자가 : 2 4월29일 : 1 저장할 : 1 2호포…재팬시리즈 : 1 기업을 : 2 내역이 : 1 저장해 : 1 if : 3 일정·명단 : 1 isMobile : 1 status : 1 반드시 : 1 꺼져 : 3 다양성 : 1 빠르게 : 2 사랑하는 : 1 본드 : 2 바로 : 1 증오범죄와 : 2 대한 : 1 펼치기 : 4 이곳에서 : 1 10월 : 2 clearLS : 1 쉽고 : 1 않은 : 1 영화 : 4 편 : 2 로그아웃을 : 1 slidingOneTimeLink : 1 slidingCookieName : 1 10년來 : 1 수행하면 : 1 slidingCookieExpDate : 1 후보에 : 1 확인되지 : 2 리틀톰과 : 2 최초설치가 : 1 킹스맨2 : 2 번호는 : 1 촬영 : 2 로그인 : 1 svr : 1 방향 : 1 메인을 : 2\n",
      "------------------------------------------------------------------------------------------------------------\n",
      "사용해 : 1 오늘만 : 1 걸고 : 1 아고라 : 2 먹으면 : 1 tv팟 : 3 MBC에 : 1 장소 : 1 삼시세끼 : 2 6px : 11 이야기가 : 1 동영상 : 1 전체보기 : 2 꺾이나 : 1 실시간 : 2 오늘의 : 2 보는 : 1 운세 : 1 30px : 1 BEST : 1 어민들 : 1 찾기 : 2 롤드컵 : 1 22px : 1 현재 : 8 상품 : 2 li : 32 강정호 : 1 0 : 145 모바일 : 1 잇다 : 1 5px : 7 25px : 1 바로가기 : 7 증상 : 1 로드뷰 : 1 잇단 : 1 3px : 4 우려 : 1 어학사전 : 1 검색 : 3 통합 : 1 auto : 5 축제 : 1 예약 : 1 확보 : 1 1px : 11 홈피트니스 : 1 주인장과 : 1 훈련 : 1 실행력의 : 1 박나래 : 2 약관 : 1 대 : 1 전일대비 : 2 IP보안 : 1 PC에서만 : 1 조우종 : 2 게임 : 3 안보리 : 1 와서 : 1 button : 1 루리웹 : 1 강동원 : 2 17일 : 1 브랜드 : 1 링크를 : 22 일본 : 1 10px : 13 자동실행 : 1 민아 : 2 9px : 4 11px : 2 03시 : 1 독일 : 1 패션 : 1 특가 : 1 음식이 : 1 대비하라 : 1 키높이 : 1 성인용품점 : 1 13px : 1 시선 : 1 끝나기도 : 1 혹은 : 1 자동차 : 1 거론되는 : 1 광고 : 1 하루 : 1 백내장 : 1 전체 : 1 너로 : 1 AD : 1 마을 : 1 탭 : 10 재차 : 1 신경전 : 1 05 : 1 득 : 1 5분 : 1 FUN : 1 60px : 1 지역 : 2 멤버는 : 1 소개 : 1 일본인 : 1 거품 : 1 부동산 : 2 영국 : 1 정글의법칙 : 2 4px : 4 body : 1 미즈넷 : 2 닫기 : 1 대표 : 1 포근한 : 1 w04 : 1 2px : 6 페이지7 : 2 뭐냐고 : 1 hide : 1 총 : 7 브런치 : 2 105px : 1 EBS지식 : 1 강정호의 : 1 메일 : 1 추인 : 1 빵빵한 : 1 strong : 1 45px : 1 쇼핑 : 2 및 : 2 나를돌아봐 : 2 흔들다 : 1 이탈리아 : 1 어획량 : 1 백과사전 : 1 확인하시려면 : 22 주요 : 2 쌓은 : 1 8px : 6 노년성 : 1 밥 : 1 시즌 : 1 제주 : 1 접근성 : 1 추천 : 2 지도 : 3 오피스룩 : 1 분양가 : 1 남달라 : 1 블로그 : 3 검색어 : 1 많이 : 1 내용을 : 22 이태원 : 1 다음앱 : 3 바친 : 1 다음 : 1 열어 : 1 책 : 2 근황 : 1 위원 : 1 게하 : 1 23px : 1 0px : 1 span : 1 있는 : 1 한 : 2 어촌편 : 2 사태가 : 1 전쟁 : 1 금융 : 1 스토리볼 : 1 설정 : 2 뉴스 : 1 연예 : 1 베스트 : 1 신규앱 : 1 말고 : 1 티스토리 : 1 찍은 : 1 지식공간 : 1 공감 : 7 라이프 : 1 첫 : 1 관련 : 2 보호를 : 1 대한 : 1 중계센터 : 1 종료 : 1 열정樂서 : 1 목록 : 1 8 : 1 안내 : 2 웹툰 : 2 국정화 : 1 스포츠 : 2 제목 : 22 날씨 : 2 마일리지 : 2 쇼핑도움 : 1 16px : 1 일정 : 1 팁 : 3 웹 : 1 solid : 53 타로로 : 1 강남 : 1 한국 : 1 펼치기 : 1 날개 : 1 전세 : 1 배려했다 : 1 만화속세상 : 1 20px : 2 송해 : 2 싹쓸이 : 1 Daum : 1 7px : 3 19px : 5 크게 : 1 될까 : 2 스페셜 : 3 희망해 : 3 신수지의 : 1 모으다 : 1 예비군 : 1 공판서 : 1 재밌는 : 1 한숨 : 1 인기 : 1 알렉스 : 1 조현영 : 1 국립 : 1 현금전달 : 1 유익한 : 1 클릭상품 : 1 자취방 : 1 사전 : 3 dotted : 1 캣맘 : 1 가 : 1 경기전 : 1 전 : 22 독 : 1 서비스 : 7 결방 : 1 우리나라가 : 1 14px : 1 전체회의 : 1 이미지 : 1 링크모음 : 1 카페 : 4 대란에 : 1 15px : 5 등장 : 1 핵심기술 : 1 증권 : 2 언프리티랩스타2 : 2 논란 : 1 타지키스탄에 : 1 왜 : 2 납치 : 1 탐구생활 : 1 바로 : 22 레깅스 : 1 어렵게 : 1 동안 : 1 상승 : 2 인기기획전 : 1 십월이의 : 1 밤에도 : 1 가져오기 : 22 더보기 : 2 클라우드 : 1 영화 : 3 a : 3 시즌2 : 2 이전 : 1 이슈 : 2 지구촌 : 1 미디어 : 1 날짜 : 1 페이지11 : 1 정보 : 8 용의자 : 1 오늘 : 1 q : 1 둘이서 : 1 페이지8 : 1 예년의 : 1 페이지3 : 1 경기시간 : 1 로그인 : 2 드러낸 : 1 페이지6 : 1 방향 : 1 left : 2\n",
      "------------------------------------------------------------------------------------------------------------\n",
      "Canada : 1 inning : 1 all : 1 0 : 4 Lead : 1 Fix : 1 Jim : 1 6px : 1 Winning : 1 Reassigned : 1 Bureau : 1 Delirium : 1 Department : 1 Gin : 1 ERIC : 1 Today : 1 Ceiling : 1 icons : 1 Job : 1 Stem : 1 Glass : 2 unionized : 2 Words : 1 Not : 1 include : 1 sway : 1 Day : 4 Kettering : 1 Revolutionary : 1 Shoot : 1 League : 1 DRAPE : 1 Region : 1 Vehicles : 1 Revolt : 1 Sale : 1 VICTORIA : 1 Headers : 1 1px : 6 fall : 1 Tomb : 1 Kearney : 1 Spy : 1 Astronomy : 1 Campaign : 1 Super : 1 Tesla : 2 May : 1 RICK : 1 Soldiers : 3 div : 2 Debate : 4 Taps : 1 force : 1 Treasury’s : 1 POWELL : 1 Some : 1 Fast : 1 Sales : 1 Romance : 1 Stay : 1 Insider’s : 1 video : 1 Word : 1 Norway : 1 FanDuel : 1 Years : 1 Down : 1 what : 1 Fatal : 2 Road : 1 Janet : 2 consumers : 1 Bruce : 2 Georgian : 1 week’s : 1 Upshot : 1 Wrong : 1 Supers : 1 new : 7 Along : 1 Tart : 1 Aunt’ : 1 public : 1 Presidential : 1 Gift : 2 wrapping : 1 Triumphant : 1 explore : 1 Spicy : 1 let : 1 Our : 2 Briefing : 1 100 : 1 SCHMIDT : 1 My : 3 Deal : 1 MM : 1 Energy : 1 Mending : 1 Back : 1 18px : 1 Born : 1 NORIMITSU : 1 oversees : 2 opinion : 2 Ghosts : 2 Revealing : 1 Crackling : 1 Style : 1 love : 1 Greenwich : 3 City : 1 Top : 1 Multimedia : 1 When : 1 Where : 1 losing : 1 PATRIQUIN : 1 Treatment : 3 Sick : 1 Meet : 2 Europe : 1 Exploring : 1 use : 1 from : 2 Explorer : 1 would : 1 to : 45 Attempted : 2 two : 3 sports : 1 Lens : 1 few : 4 Moment : 1 Awards : 1 Peak : 1 Earliest : 1 until : 1 more : 2 October : 1 stereotypes : 1 Savoring : 1 name : 1 CACCIOLA : 1 Mount : 1 1960 : 1 Proposals : 1 STYLING : 2 Rule : 1 Theater : 2 “A : 1 converted : 1 90 : 2 effort : 1 Latest : 1 me : 1 MUELLER : 1 this : 2 car : 2 Cited : 1 reviews : 2 Header : 1 nine : 1 can : 1 itemscope : 1 Money : 2 about : 1 Nevada : 2 Bronx : 1 Your : 1 Out : 2 Giddy : 1 Tricky : 1 del : 1 Cicely : 1 Pakistan’s : 1 Feature : 1 Cultured : 1 Reality : 2 concierge : 1 Tightrope : 1 Written : 1 Wines : 1 Sustenance : 1 Issue : 1 Bridal : 1 Who : 6 Cannot : 1 Hartford : 2 interview : 1 Tyson : 1 Their : 2 Emails : 2 Infiltrate : 1 A : 6 buildings : 1 Violence : 1 explores : 1 Lucas : 3 Replace : 1 after : 1 derived : 1 Red : 1 Will : 2 Ugly : 1 Horse : 1 Drone : 1 Africa’s : 1 president : 1 Model : 2 a : 52 Tough : 1 Played : 2 Civil : 1 Next : 2 Community : 1 Mayor : 1 Beat : 1 hailed : 1 Democrats : 1 Politics : 2 software : 1 playing : 1 opts : 1 Subversive : 1 breaking : 2 over : 4 Breaking : 2 Recall : 1 WITZ : 1 Makeover : 1 JOANNE : 1 Simon : 1 Mawer’s : 1 White : 1 ‘Truth’ : 1 Confederacy : 2 Benjamin : 1 Scholar : 1 His : 2 rapidly : 1 personal : 1 banner : 1 ‘Travels : 1 Collide : 2 Democracy : 1 li : 3 CONFESSORE : 1 horror : 1 JOE : 1 MIKE : 1 MARTIN : 1 LICHTBLAU : 1 hidden : 4 NICHOLAS : 1 Veil : 1 Hiding : 1 return : 1 halt : 1 Mobile : 1 Car : 1 Michael : 2 Hungry : 1 BILLY : 1 She : 1 they : 3 half : 1 not : 1 DraftKings : 1 Murders : 2 84 : 2 superintendents : 3 Just : 1 chronic : 1 Cards : 1 intervene : 1 Why : 4 districts : 1 lede : 1 victory : 1 Rap : 1 Falsehoods : 1 found : 1 Adding : 1 From : 1 57th : 1 Sports : 3 Figurative : 1 Live : 1 Split : 1 Which : 1 Flowing : 1 82 : 1 our : 1 ghosts : 1 Save : 1 Hollywood : 1 Deborah : 2 More : 2 Styles : 2 BEGIN : 1 Door : 1 Joy : 1 seriously : 1 messenger : 1 7 : 2 Unique : 2 supports : 1 4px : 3 BENJAMIN : 1 50px : 1 END : 1 This : 1 cars : 2 University : 1 ‘Beasts : 2 Franzen’s : 1 Absenteeism : 1 Canadians : 1 Opinion : 3 Doesn’t : 1 beginning : 1 Carleton : 1 Criticism : 1 Clinton : 2 enclave : 1 People : 1 Photo : 2 impose : 1 days : 1 Perilous : 1 ROHAN : 1 Gothic : 1 Arsenal : 1 Pass : 1 David : 2 first : 2 Even : 1 Congregants : 1 Submarine : 1 Adds : 2 Review : 1 Please : 1 457 : 1 fantasy : 1 Program : 1 Stars : 2 such : 1 Mekas : 1 Escalates : 1 open : 1 hed : 1 properties : 1 Experiment’ : 1 Congress : 1 top : 1 Volkswagen : 1 Scaling : 1 their : 3 attack : 1 2 : 1 Kaleidoscope : 1 Desert : 1 Preschool : 1 B : 2 Listening : 1 that : 1 97px : 1 biggest : 1 Edge : 1 Long : 1 Problem : 1 Game’ : 1 Taxi : 1 Code : 1 Shuffle : 1 Come : 1 require : 1 Schumer : 1 Sex : 4 Layouts : 1 Treads : 1 2017 : 1 were : 1 Guillermo : 1 Video : 1 and : 35 Richard : 2 remained : 1 Father : 1 Sites : 1 say : 1 selling : 1 Inquiry : 1 Dash : 1 Fade : 1 need : 1 Wading : 1 saw : 1 dozen : 3 Do : 4 afraid : 1 Christian : 1 Murphy : 1 Tale : 2 Graduates : 1 Adept : 1 take : 1 Waiting : 1 funds : 1 Refuses : 1 15px : 1 With : 11 Abused : 2 Articles : 2 Become : 1 Off : 2 ‘Yes : 1 Aqsa : 1 who : 1 Lamar : 2 Has : 3 Need : 2 Chief : 1 Dodgers : 3 sponsored : 1 but : 2 Cabs : 1 The : 25 — : 1 Girl : 1 Watergate : 1 ‘Bridge : 2 Artists : 1 considered : 1 flow : 1 Encouraging : 1 face : 1 High : 1 Donald : 2 Election : 6 clean : 1 Debt : 1 Its : 5 Principal : 1 Ushered : 1 Too : 1 text : 1 Soda : 1 Political : 1 Times’ : 2 Comments : 2 Research : 1 Role : 1 Odom’s : 1 ground : 1 one : 3 We : 3 upgrade : 1 layout : 10 headline : 1 daily : 1 writes : 1 Republicans : 1 pump : 2 Undo : 1 should : 1 only : 1 candidates : 1 York : 26 watching : 3 Khloe : 1 predecessor : 1 Homes : 2 Masters : 1 his : 4 hit : 1 get : 1 Pampered : 1 Turns : 1 Tricks : 2 de : 1 Crystal : 1 Magazine : 1 Set : 1 On : 4 Minutes” : 1 True : 1 Ed : 1 Grim : 2 she : 1 Female : 2 Austrian : 1 Puzzle : 2 Afghanistan : 2 Funding : 2 scruffy : 1 Driving : 2 up : 1 nocontent : 16 see : 2 officials : 1 are : 6 provider : 1 Beating : 2 barn : 1 said : 1 That : 2 Wisdom : 1 Hours : 2 3 : 1 Books : 2 Jonas : 1 APUZZO : 1 email : 1 supers : 1 King : 2 Bible : 1 recently : 1 unconscious : 1 Be : 1 2px : 3 sold : 1 Today’s : 1 Racy : 2 S : 1 Race : 2 Workplace : 1 key : 1 Were : 2 genre : 1 article : 1 Undergo : 1 Refugees : 1 receded : 1 both : 1 installation : 2 Cruises : 1 Hard : 1 contract : 1 President’s : 2 KAUFMAN : 1 Ad : 1 Campus : 1 Drinks : 1 among : 1 Guess : 1 Her : 1 point : 1 Decision : 2 Stopping : 1 Home : 1 Los : 1 ‘Afterword’ : 1 War : 3 HUGHES : 1 Blocks : 1 Electric : 1 asks : 1 Get : 1 union : 1 Curry : 1 Chicago : 1 been : 1 Promos : 1 Schools : 2 Henry : 2 Editing : 1 Herself : 1 Marcy : 1 “60 : 1 champion : 1 Mets : 4 hospitalized : 1 slideshow : 1 World : 2 Action : 2 last : 1 Drops : 1 former : 2 homer : 1 Night : 1 2016 : 1 Old : 2 How : 2 solid : 7 Into : 2 as : 8 Bloody : 1 will : 1 while : 1 College : 2 Church : 2 squeezed : 1 Cold : 2 Pilot : 1 Open : 1 Issues : 2 MORE : 1 3px : 3 Republicans’ : 1 ‘Model : 2 is : 7 it : 1 Looking : 1 Surreal : 1 draining : 1 Candidates : 3 against : 1 in : 49 Fuel : 1 You : 2 if : 2 Return : 1 Obama’s : 1 perhaps : 2 began : 1 Considers : 2 Stop : 1 Streetwise : 1 Plane : 1 Adventure : 1 Bloomberg : 2 Island : 1 9 : 1 President : 3 absenteeism : 1 About : 1 investigated : 1 I : 1 Gobi : 1 Ride : 1 Angeles : 2 coaches : 1 smatterings : 1 Seen : 1 recent : 1 rift : 1 Defect : 1 Says : 6 Bag : 2 Seek : 1 Is : 11 floor : 1 Motors : 1 It : 1 Son : 1 States : 2 Fantasy : 4 Trends : 1 Graffiti : 1 In : 10 Talks : 1 Table : 1 the : 69 Trip : 1 Tools : 1 left : 2 Living : 1 After : 1 Project : 1 Takes : 1 Revival : 1 Prove : 1 photo : 1 Social : 1 Emotions : 1 TIM : 1 Daniel : 1 Trauma : 1 Internet : 1 Gambling : 1 previous : 2 adding : 1 Friday : 1 Spot : 1 Christopher : 1 Berkeley : 1 Jets : 1 News : 2 has : 4 remaining : 1 Kardashians : 1 Lay : 1 real : 2 Rodham : 1 Last : 2 James : 2 Headphones : 1 Chinatown : 1 Drug : 2 early : 1 Ask : 1 Limit : 2 know : 2 vacuum : 2 unique : 2 Tipping : 2 Trump : 3 Heart : 1 modifications : 1 Fashion : 1 Art : 6 like : 1 Enough : 1 Spielberg : 2 Hacks : 1 facing : 1 imposes : 1 Rising : 1 Are : 6 Collages : 1 ‘A : 2 Find : 2 11px : 2 Treat : 1 Jones : 1 Little : 1 superintendent : 2 12px : 3 propel : 1 Advance : 1 Savor : 1 West : 1 Cudgel : 1 some : 1 Crossword : 2 Muhammadu : 1 Clinton’s : 1 Sloan : 1 New : 27 racial : 2 Pig : 1 Mary : 1 Daypart : 1 Like : 1 Discovered : 1 Life : 1 Seoul : 1 for : 21 Fire : 1 Revolutionized : 2 Events : 3 Warning : 1 assuming : 1 downplaying : 1 Earl : 1 be : 1 School : 1 Buhari : 1 power : 1 sixth : 1 Bill : 1 MICHAEL : 1 Up : 2 Daily : 3 Times : 2 Near : 1 Davis : 4 0px : 2 super : 5 by : 3 Million : 1 First : 3 on : 16 MATT : 1 Resign : 1 Beauty : 1 getting : 2 of : 48 Trade : 1 Anchored : 2 Students : 1 SHANNON : 1 Dies : 5 Games : 1 Still : 1 or : 2 block : 1 Really : 4 seeing : 1 Mathieu : 1 own : 2 Shaw : 1 No : 2 into : 2 h6 : 18 h5 : 1 Insider : 2 Draft : 1 Joan : 1 female : 1 Korean : 2 next : 2 Approach : 1 your : 2 ‘Amy : 1 ‘Homeland’ : 1 Plays : 1 Detroit : 1 stereotype : 1 Houses : 1 Assistant : 1 Hotel : 1 Hillary : 4 Break : 2 start : 1 Every : 1 lot : 1 Child : 2 var : 5 was : 1 Avoid : 1 Obama : 1 function : 5 DNA : 1 Column : 3 Mosque : 1 Well : 1 Holocaust : 1 Brutal : 2 forward : 1 Known : 1 heat : 1 Promising : 2 Means : 1 It’s : 2 with : 4 Guide : 1 he : 1 ‘The : 3 Geoffrey : 1 whether : 1 House : 1 Africa : 2 Alterations : 1 Leon : 4 Pops : 1 TV : 2 SCOTT : 1 720 : 1 Sense : 1 problem : 2 Hidden : 1 Dictator : 1 ordered : 1 ‘Greater : 1 videos : 1 Shamed : 1 Nuclear : 1 influence : 1 an : 3 divisive : 2 Attack : 1 Win : 1 at : 21 Captives : 1 politics : 2 Chemist : 2 Families : 1 us : 1 no : 1 Centered : 2 drivers : 1 overseeing : 2 when : 1 Joseph’s : 1 Trippy : 1 Else : 1 Dark : 2 Pennsylvania : 2 Know : 1 you : 1 ONISHI : 1 Asian : 1 explaining : 1 Blasio’s : 1 Liberia’s : 1 Want : 1 Skills : 1 Country : 1 Recipes : 1 AM : 7 Cash : 2 Remove : 1 kickers : 1 Swamp : 1 Minsk : 1 Lose : 1 Autonomous : 3 Page : 1 building : 5 longer : 1 Estate : 2 Rabbi : 1 Betting : 2 Modern : 2 contemporary : 1 websites : 1 dragged : 2 ROJAS : 1 2000 : 1 Street : 1 Sleep : 2 At : 1 Frank : 1 Contributor : 1 Newsletter : 1 Organs : 1 scroll : 1 Fleet : 1\n"
     ]
    }
   ],
   "source": [
    "import urllib2\n",
    "import string\n",
    "source1 = urllib2.urlopen(\"http://www.naver.com\").read()\n",
    "source2 = urllib2.urlopen(\"http://www.daum.net\").read()\n",
    "source3 = urllib2.urlopen(\"http://www.nytimes.com\").read()\n",
    "\n",
    "#http://www.naver.com\n",
    "for i in range(0, source1.count('<!--')):\n",
    "    if source1.find(\"<!--\") != -1:\n",
    "        source1 = source1.replace(source1[source1.find(\"<!--\"):source1.find(\"-->\")+3:],\"\")\n",
    "for i in range(0,source1.count(\"<\")):\n",
    "    if source1.find(\"<\") != -1:\n",
    "        source1 = source1.replace(source1[source1.find(\"<\"):source1.find(\">\")+1:],\"\")    \n",
    "\n",
    "#http://www.daum.net\n",
    "for i in range(0, source2.count('<!--')):\n",
    "    if source2.find(\"<!--\") != -1:\n",
    "        source2 = source2.replace(source2[source2.find(\"<!--\"):source2.find(\"-->\")+3:],\"\")\n",
    "for i in range(0,source2.count(\"<\")):\n",
    "    if source2.find(\"<\") != -1:\n",
    "        source2 = source2.replace(source2[source2.find(\"<\"):source2.find(\">\")+1:],\"\")    \n",
    "\n",
    "#http://www.nytimes.com        \n",
    "for i in range(0, source3.count('<!--')):\n",
    "    if source3.find(\"<!--\") != -1:\n",
    "        source3 = source3.replace(source3[source3.find(\"<!--\"):source3.find(\"-->\")+3:],\"\")\n",
    "for i in range(0,source3.count(\"<\")):\n",
    "    if source3.find(\"<\") != -1:\n",
    "        source3 = source3.replace(source3[source3.find(\"<\"):source3.find(\">\")+1:],\"\") \n",
    "        \n",
    "new_source_list1 = source1.split()\n",
    "new_source_list2 = source2.split()\n",
    "new_source_list3 = source3.split()\n",
    "check=set(string.punctuation)\n",
    "new_source_dic1={}\n",
    "new_source_dic2={}\n",
    "new_source_dic3={}\n",
    "for i in new_source_list1:\n",
    "    if not len(check.intersection(i)):\n",
    "        if not new_source_dic1.get(i):\n",
    "            new_source_dic1[i]=1\n",
    "        else:\n",
    "            new_source_dic1[i]=new_source_dic1[i]+1\n",
    "for i in new_source_list2:\n",
    "    if not len(check.intersection(i)):\n",
    "        if not new_source_dic2.get(i):\n",
    "            new_source_dic2[i]=1\n",
    "        else:\n",
    "            new_source_dic2[i]=new_source_dic2[i]+1\n",
    "for i in new_source_list3:\n",
    "    if not len(check.intersection(i)):\n",
    "        if not new_source_dic3.get(i):\n",
    "            new_source_dic3[i]=1\n",
    "        else:\n",
    "            new_source_dic3[i]=new_source_dic3[i]+1\n",
    "print '------------------------------------------------------------------------------------------------------------'\n",
    "for word in new_source_dic1:\n",
    "    print word,':',new_source_dic1[word],\n",
    "print\n",
    "print '------------------------------------------------------------------------------------------------------------'    \n",
    "for word in new_source_dic2:\n",
    "    print word,':',new_source_dic2[word],\n",
    "print\n",
    "print '------------------------------------------------------------------------------------------------------------'    \n",
    "for word in new_source_dic3:\n",
    "    print word,':',new_source_dic3[word],"
   ]
  },
  {
   "cell_type": "markdown",
   "metadata": {},
   "source": [
    "해설)  \n",
    "일단 사이트의 url을 통해서 문자열을 가저온 뒤 조건에 따라 parsing을 하는 것은 모범답안을 참고하였다.\n",
    "이번문제에서 해결해야 할 문제는 크게 2가지라고 생각하였다. \n",
    "1) 구두문자들 제거하기  \n",
    "\n",
    "이것을 해결 하려면 구두문자를 원소로 가려와서 for문을 돌리며 일일이 확인하는 방법이 존재하지만 이번에 새롭게 배운 집합을 이용하여 해결하려 하였다. 일단 문자열을 set()모듈 안에 들어간다면 원소가 되며 구두문자는 중복될 일도 없다. 구두문자의 집합과 리스트에 있는 단어의 문자를 교집합을 한다. 교집합을 해서 반환되는 집합이 있다면 그것은 일치되는 문자가 있는 것이 있다는 뜻이고 이것은 제외해야 하는 문자를 의미 한다. 이 과정을 모든 리스트의 원소를 처리 하여 조건을 만족시킨다.\n",
    "그 이후 구두문자를 제거하는 일을 하여야한다.\n",
    "\n",
    "2) 중복되는 단어의 개수 파악하기  \n",
    "\n",
    "개수를 파악하는데는 사전 자료구조를 사용한다. 이때 사용하는 사전의 모듈은 get()이다. get의 경우에는 인덱스값이 없는 경우 None의 값을 반환해주는데 조건문에서 유용하게 사용된다.\n",
    "None이 출력된다면 사전에 인덱스값을 추가하고 value로는 1을 준다. \n",
    "만약 존재한다면 기존의 value에서 1을 증가하는 연산을 시킨다.\n",
    "\n",
    "그리고 마지막으로 사전의 형태로 출력을 하여야 하는데 ipython의 오류로 인해서 한글이 깨지는 현상이 있었다. 그렇기에 조교님에게 들은 방법으로 이 문제를 해결하려고 하였다. 그 방법은 for문을 이용한 출력이어서 부득이하게 for문을 이용하여 출력하게 되었다."
   ]
  },
  {
   "cell_type": "markdown",
   "metadata": {},
   "source": [
    "###느낀점)\n",
    "이번 과제는 여러 자료구조와 내부함수를 이용하여 푸는 문제가 많았는데 java나 c의 경우에는 일일이 짜야하는 모듈들이 지원되는 내부모듈로 해결되는 것을 보니 파이썬의 간결성에 놀랄수가 없었습니다. 그리고 강의에서 파이썬의 단점으로 느린 것을 뽑았을 때는 놀랐습니다. 왜냐하면 이번 오일러문제들이 반복을 하는 경우가 많은데 이경우 느낌이 java보다 빠르다는 느낌을 받았는데 달라서 말이죠.\n",
    " 중간고사를 기점으로 어떻게 보면 기본 문법을 넘어서 고급프로그래밍쪽으로 배우는 것 같아서 더 재미있을 것 같습니다."
   ]
  }
 ],
 "metadata": {
  "kernelspec": {
   "display_name": "Python 2",
   "language": "python",
   "name": "python2"
  },
  "language_info": {
   "codemirror_mode": {
    "name": "ipython",
    "version": 2
   },
   "file_extension": ".py",
   "mimetype": "text/x-python",
   "name": "python",
   "nbconvert_exporter": "python",
   "pygments_lexer": "ipython2",
   "version": "2.7.9"
  }
 },
 "nbformat": 4,
 "nbformat_minor": 0
}
