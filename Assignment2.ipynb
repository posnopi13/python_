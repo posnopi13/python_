{
 "cells": [
  {
   "cell_type": "markdown",
   "metadata": {},
   "source": [
    "#과제 2\n",
    "\n",
    "###문제1. 다음 6 개의 Expression에 대해 Evaluation 결과 값을 출력하고, 해당 결과가 나온 이유에 대해 설명하시오."
   ]
  },
  {
   "cell_type": "code",
   "execution_count": 3,
   "metadata": {
    "collapsed": false
   },
   "outputs": [
    {
     "name": "stdout",
     "output_type": "stream",
     "text": [
      "4\n",
      "1\n",
      "2\n",
      "2\n",
      "1\n",
      "3\n"
     ]
    }
   ],
   "source": [
    "print 1 and 2 and 3 and 4 #4\n",
    "print 1 or 2 or 3 or 4 #1\n",
    "print 1 and 2 or 3 and 4 #2\n",
    "print (1 and 2) or (3 and 4) #2\n",
    "print 1 or 2 and 3 or 4 #1\n",
    "print (1 or 2) and (3 or 4) #3"
   ]
  },
  {
   "cell_type": "markdown",
   "metadata": {},
   "source": [
    "논리연산자에서는 논리 연산을 따라 최종적으로 평가 되어진 값이 반환된다.\n",
    "1) 1 and 2 and 3 and 4 \n",
    "\n",
    "논리연산자가 모두 and 이기에 마지막 값까지 평가하여야 하기에 4가 출력된다.\n",
    "\n",
    "2) 1 or 2 or 3 or 4</br>\n",
    "\n",
    "논리연산자가 모두 or이기에 첫번째 값이 true 값이면 거기서 끝이난다. 그래서 1이 출력된다.\n",
    "\n",
    "3) 1 and 2 or 3 and 4</br>\n",
    "\n",
    "1 and 2 에서 최종평가되어지는 값은 2 이고 뒤에는 or로 되어 있으므로 평가하지 않는다.\n",
    "\n",
    "4) (1 and 2) or (3 and 4)</br>\n",
    "\n",
    "4번은 괄호로 묶여 있는데 이것은 A or B로 볼수 있으므로 A가 만약 참이면 B의 값을 판단하지 않는다 여기서 A는 1 and 2 로 2를 가지므로 참이 되며 2를 반환하게 된다.\n",
    "\n",
    "5) 1 or 2 and 3 or 4 </br>\n",
    "\n",
    "5번은 1 or 이 나오는 순간 다음 값을 평가하지 않으므로 1이 된다.\n",
    "\n",
    "6) (1 or 2) and (3 or 4) </br>\n",
    "\n",
    "A and B 의 형태를 가지고 있으므로 A가 참이고 B까지 참이어야 한다. A = (1 or 2) 는 2이므로 참이고 B = (3 or 4) 로 4를 가지므로 3 and 4에서 4가 반환되게 된다."
   ]
  },
  {
   "cell_type": "markdown",
   "metadata": {},
   "source": [
    "###문제2. 키보드로 정수값을 입력 받고 그 값이 양수인지 음수인지를 비트 연산자를 이용하여 판단하는 프로그램을 작성하시오."
   ]
  },
  {
   "cell_type": "code",
   "execution_count": 2,
   "metadata": {
    "collapsed": false
   },
   "outputs": [
    {
     "name": "stdout",
     "output_type": "stream",
     "text": [
      "100\n",
      "양수입니다.\n",
      "-5\n",
      "음수입니다.\n"
     ]
    }
   ],
   "source": [
    "def judge(a):\n",
    "    if a>>a.bit_length():\n",
    "        print \"음수입니다.\"\n",
    "    else :\n",
    "        print \"양수입니다.\"\n",
    "judge(input())\n",
    "judge(input())"
   ]
  },
  {
   "cell_type": "markdown",
   "metadata": {},
   "source": [
    "해설) 비트연산을 해본결과 입력값의 비트만큼 오른쪽으로 옮기니 0이거나 -1의 값이 나왔다. -1은 true로 인식하기에 입력값의 비트연산의 값이 -1이 되는 경우에는 '음수'를 출력하고 아닌 경우는 '양수'를 출력하도록 하였다."
   ]
  },
  {
   "cell_type": "markdown",
   "metadata": {},
   "source": [
    "###문제3. 경로에 해당하는 문자열 1개를 입력 받아 그 안에 디렉토리 경로명과 파일명을 분리하여 리스트로 반환하는 함수 div_path(s)를 작성하시오\n",
    "    - 인자로 전달하는 문자열은 경로만 들어간다고 가정한다.\n",
    "    - 각 디렉토리와 파일을 구분하는 문자는 '/'로 가정한다.\n",
    "    - 반환하는 리스트의 첫번째 원소는 디렉토리이고 두번째 원소는 파일명이다.\n",
    "    - 다음과 같은 실행 및 출력 결과가 도출되어야 한다.\n",
    "        - div_path('/usr/local/bin/python')\n",
    "        - ['/usr/local/bin', 'python']\n",
    "        - div_path('/home/chulsoo/test.txt')\n",
    "        - ['/home/chulsoo', 'test.txt']\n",
    "     [참고] 리스트(l) 내에 새로운 정수값 (예를 들어 10)을 넣는 방법은 l.append(10) 이다."
   ]
  },
  {
   "cell_type": "code",
   "execution_count": 21,
   "metadata": {
    "collapsed": false
   },
   "outputs": [
    {
     "name": "stdout",
     "output_type": "stream",
     "text": [
      "['/usr/local/bin', 'python']\n"
     ]
    }
   ],
   "source": [
    "def div_path(a):\n",
    "    b=a.split('/')#문자열을 '/'로 구분하여 잘라 리스트형태로 저장\n",
    "    c=[b.pop()]#맨 끝의 원소가 파일명이므로 추출한다.\n",
    "    c.insert(0,'/'.join(b))#다시 나머지 문자열들을 '/'을 삽입하며 join을 통해 합친 뒤 리스트의 0번째 인덱스에 삽입한다.\n",
    "    return c\n",
    "a=div_path('/usr/local/bin/python')    \n",
    "print a    "
   ]
  },
  {
   "cell_type": "markdown",
   "metadata": {},
   "source": [
    "해설) 위 문제를 푸는 방법은 일단 문자열을 '/'로 나누는 것이다. 그리고 나누어진 리스트에서 마지막 문자열은 파일명이 될 것이기에 pop()을 통해서 새로운 리스트에 저장한다. 그리고 다시 나머지 문자열들을 join을 통해서 '/'로 구분되어진 문자열로 합한 뒤 insert를 통해서 리스트의 맨 처음으로 삽입한다."
   ]
  },
  {
   "cell_type": "markdown",
   "metadata": {},
   "source": [
    "###문제 4. 두 개의 리스트를 인자로 받아서 그 두 개의 리스트에 대한 '합집합'을 반환하는 함수 list_union(lista, listb)를 작성하시오.\n",
    "    - 인자로 전달하는 리스트 2 개에는 정수값만 들어간다고 가정하자.\n",
    "    - 함수 내에서 새로운 리스트를 만들어 그 리스트 내에 인자로 받은 두 리스트의 모든 원소를 넣어 반환한다.\n",
    "    - 반환하는 리스트에는 절대로 중복된 원소가 들어 있으면 안된다 (집합의 조건).\n",
    "    - 반환하는 리스트는 정렬이 되어 있어야 한다.\n",
    "    - 다음과 같은 실행 및 출력 결과가 도출되어야 한다.\n",
    "        * list_union([1, 2, 3], [1, 2, 4])\n",
    "        *[1, 2, 3, 4]\n",
    "        *list_union([-10, -5, 0, -1], [100, 9, 0, 9])\n",
    "        *[-10, -5, -1, 0, 9, 100]\n",
    "        *list_union([0, 1, 2], [0, 1, 2])\n",
    "        *[0, 1, 2]\n",
    "    - [참고] 리스트(l) 내에 새로운 정수값 (예를 들어 10)을 넣는 방법은 l.append(10) 이다.\n",
    "    - [참고] 임의의 정수값 (x)이 리스트 (l) 내에 존재하는지 판단하는 방법은 x in l 이다."
   ]
  },
  {
   "cell_type": "code",
   "execution_count": 32,
   "metadata": {
    "collapsed": false
   },
   "outputs": [
    {
     "name": "stdout",
     "output_type": "stream",
     "text": [
      "[1, 2, 3, 4]\n",
      "[-10, -5, -1, 0, 9, 100]\n",
      "[0, 1, 2]\n"
     ]
    }
   ],
   "source": [
    "def list_union(a,b):\n",
    "    c=[]\n",
    "    for i in a+b:#a와  b를 더한 리스트의 원소로 for 반복문을 수행한다.\n",
    "        if i not in c:#만약 c에 원소가 없다면 c에 원소를 더한다.\n",
    "            c.append(i)#정수이기 때문에 보기 좋게 정렬을 하는데 리스트를 반환해주는 함수는 내장함수 sorted 이기에 사용하였다.\n",
    "    return sorted(c)\n",
    "print list_union([1, 2, 3], [1, 2, 4])\n",
    "print list_union([-10, -5, 0, -1], [100, 9, 0, 9])\n",
    "print list_union([0, 1, 2], [0, 1, 2])"
   ]
  },
  {
   "cell_type": "markdown",
   "metadata": {},
   "source": [
    "인자로 받은 리스트 a와 b를 더한 새로운 리스트에 대하여 for문을 수행하는데 조건문을 통해서 기존의 리스트에 새로운 원소값이 존재하는지 확인한 후에 존재하지 않는다면 그 값을 리스트에 삽입하는 형식으로 한다. 그리고 반환되어지는 값은 내장함수 sorted를 이용하여 반환한다."
   ]
  },
  {
   "cell_type": "markdown",
   "metadata": {},
   "source": [
    "###문제5. 오일러 문제4. \n",
    "\n",
    "앞에서부터 읽을 때나 뒤에서부터 읽을 때나 모양이 같은 수를 대칭수(palindrome)라고 부릅니다.\n",
    "\n",
    "두 자리 수를 곱해 만들 수 있는 대칭수 중 가장 큰 수는 9009 (= 91 × 99) 입니다.\n",
    "\n",
    "세 자리 수를 곱해 만들 수 있는 가장 큰 대칭수는 얼마입니까?"
   ]
  },
  {
   "cell_type": "code",
   "execution_count": 34,
   "metadata": {
    "collapsed": false
   },
   "outputs": [
    {
     "name": "stdout",
     "output_type": "stream",
     "text": [
      "906609\n"
     ]
    }
   ],
   "source": [
    "temp=[]\n",
    "for i in range(999,99,-1):\n",
    "    for j in range(999,99,-1):\n",
    "        sum = i*j\n",
    "        a = sum/1000\n",
    "        b = sum%10*100\n",
    "        c = (int(sum/10))%10*10\n",
    "        d = (int(sum/100))%10\n",
    "        e = b+c+d\n",
    "        if a==e:\n",
    "            temp.append(sum)\n",
    "temp.sort()\n",
    "print temp.pop()           "
   ]
  },
  {
   "cell_type": "markdown",
   "metadata": {},
   "source": [
    "해설) \n",
    "세자리수의 범위는 100~999이다 그리고 대칭인 수의 범위는 10000<=x<1000000이다 그렇기에 가장 큰 대칭수의 수는 6자리수를 가진다고 가정한다. \n",
    "1. 그다음 앞의 3개의 자릿수를 999부터 100까지로 정하여 거기에 대칭하는 수를 구한 뒤 그 수의 소인수를 구한다. \n",
    "2. 소인수가 2개이면서 2개 모두 백의자리수를 가지는 수를 리스트에 넣는다. \n",
    "3. 리스트를 정렬한다.\n",
    "4. 가장큰 수는 맨뒤에 있을 것이기에 pop()함수를 통하여 구한다"
   ]
  },
  {
   "cell_type": "markdown",
   "metadata": {},
   "source": [
    "###문제6. 오일러 문제 5.\n",
    "\n",
    "1 ~ 10 사이의 어떤 수로도 나누어 떨어지는 가장 작은 수는 2520입니다.\n",
    "\n",
    "그러면 1 ~ 20 사이의 어떤 수로도 나누어 떨어지는 가장 작은 수는 얼마입니까?"
   ]
  },
  {
   "cell_type": "code",
   "execution_count": 36,
   "metadata": {
    "collapsed": false
   },
   "outputs": [
    {
     "name": "stdout",
     "output_type": "stream",
     "text": [
      "{2: 4, 3: 2, 5: 1, 7: 1, 11: 1, 13: 1, 17: 1, 19: 1}\n",
      "정답 :  232792560\n"
     ]
    }
   ],
   "source": [
    "group_orgin={}#key(숫자)와 count(개수)를 저장하는변수 - 최종답을 구할 때 여기에 있는 key값과 value 값을 제곱하여 구할 것이다.\n",
    "\n",
    "#2~20까지의 수의 범위에서의 값들을 인수분해할 것이다.\n",
    "for i in range(2,21):\n",
    "    group_test={}#주어진 i의 값의 인수분해 값들을 저장\n",
    "    value=i#주어진 i의 값이 변하면 안된다 (for문의 i값은 건드리면 for문이 꼬여버릴수 있다)\n",
    "    j=2\n",
    "    count=0#몇번 나누어지는가를 저장하는 count\n",
    "    while value!=1:#2부터 value 값이 1이 될 때까지 인수분해\n",
    "        if not(value%j):#value%i==0과 같은 의미\n",
    "            value=value/j\n",
    "            count+=1#나누어진다면 count++\n",
    "            group_test[j]=count#소인수분해값을 구하자 첫 key인 경우 사전형에 추가가 될것이고 아닌경우 갱신이 될 것이다\n",
    "            continue#같은 인수가 있을수 있으니 continue를 사용하자\n",
    "        j=j+1\n",
    "        count=0\n",
    "    real=group_orgin.keys()\n",
    "    img=group_test.keys()\n",
    "    for key in img:#새로 구해진 key 리스트들로 for문을 돌린다\n",
    "        if key in real:#기존에 존재하는 key이라면 크기를 비교\n",
    "            if group_test[key]>group_orgin[key]:\n",
    "                group_orgin[key]=group_test[key]\n",
    "        else:#아니라면 새롭게 구해진 key와 value를 추가\n",
    "            group_orgin[key]=group_test[key]\n",
    "print group_orgin\n",
    "#구해진 인수분해 값들을 곱하여 문제에서 구하라는 값을 구한다.\n",
    "sum=1\n",
    "real=group_orgin.keys()\n",
    "for i in real:\n",
    "    sum *= i**group_orgin[i]\n",
    "print '정답 : ',sum    "
   ]
  },
  {
   "cell_type": "markdown",
   "metadata": {},
   "source": [
    "해설)\n",
    "1~20까지 어떠한 수로든 나누어지려면 해당하는 값을 인수분해한 요소의 합집합과 으로 중복되지 않는 값들의 곱으로 1~20의 수를 표현할 수 있어야 한다. 여기서 8의 경우 2의 3승으로 구해지는 경우다. 즉, 소인수분해한 원소와 그 원소가 최대 몇개까지 구해지는지 를 구하여야 한다.\n",
    "그렇기에 역으로 1~20사이의 수의 모든 인수분해를 한 뒤 각 원소와 곱의 개수를 구한 뒤 각각의 값에 그 값의 개수를 곱한다면 정답이 나올것이다.\n",
    "\n",
    "알고리즘)\n",
    "<1~20으로 어떠한 수로든 나누어지는 값 구하기>\n",
    "+ 1~20까지 while문에서 아래와 같은 과정을 겪는다.\n",
    "\n",
    "    인수분해-> 기존에 구한 값에 없는 key 값이 있는가?  1)-yes-> 기존의 key 값의 갯수보다 많은가? ㄱ.-yes-> 갱신한다.<br>\n",
    "\n",
    "                                                                                      ㄴ.-no-> 아무거도 안한다.\n",
    "                                                                                               \n",
    "                                                  2)-no-> 새로 구한 인수분해 key 값과 갯수를 갱신한다."
   ]
  },
  {
   "cell_type": "markdown",
   "metadata": {},
   "source": [
    "###문제7. 오일러문제 6.<br>\n",
    "1부터 10까지 자연수를 각각 제곱해 더하면 다음과 같습니다 (제곱의 합).\n",
    "\n",
    "12 + 22 + ... + 102 = 385\n",
    "1부터 10을 먼저 더한 다음에 그 결과를 제곱하면 다음과 같습니다 (합의 제곱).\n",
    "\n",
    "(1 + 2 + ... + 10)2 = 552 = 3025\n",
    "따라서 1부터 10까지 자연수에 대해 \"합의 제곱\"과 \"제곱의 합\" 의 차이는 3025 - 385 = 2640 이 됩니다.\n",
    "\n",
    "그러면 1부터 100까지 자연수에 대해 \"합의 제곱\"과 \"제곱의 합\"의 차이는 얼마입니까?"
   ]
  },
  {
   "cell_type": "code",
   "execution_count": 39,
   "metadata": {
    "collapsed": false
   },
   "outputs": [
    {
     "name": "stdout",
     "output_type": "stream",
     "text": [
      "25164150\n"
     ]
    }
   ],
   "source": [
    "a = range(1,101)\n",
    "sum1=0\n",
    "sum2=0\n",
    "for i in a:\n",
    "    sum1 += i*i\n",
    "for i in a:\n",
    "    sum2 +=i\n",
    "print sum2**2-sum1    "
   ]
  },
  {
   "cell_type": "markdown",
   "metadata": {},
   "source": [
    "해설) 수학적인 공식이 있었던 것으로 기억하지만 문제에서 수의 값이 작아서 간단하게 문제에 주어진 대로 합의제곱에서 제곡의합의 차를 구하였다."
   ]
  },
  {
   "cell_type": "markdown",
   "metadata": {},
   "source": [
    "###문제8. [Incremental Project] 웹 URL로 지정된 웹페이지를 문자열로 가져와 1) 모든 HTML 태그를 제외한 순수 텍스트 문자열만을 걸러내고, 2) 그 순수 텍스트 문자열 안에 존재하는 단어가 총 몇개인지 출력하는 프로그램을 작성하시오.\n",
    "\n",
    "- HTML 태그는 다음 조건을 가지는 것이다.\n",
    "     \n",
    "    - < 로 시작하여 >로 끝난다.\n",
    "    - 예를 들어, 아래와 같은 HTML 내용 내에 한 줄이 있다고 가정하자.\n",
    "    \n",
    "         <label for=\"keep_signed\">로그인 유지</label>\n",
    "      \n",
    "    - 위 소스에서 HTML 태그를 제외한 순수 텍스트 문자열은 아래와 같다.\n",
    "         \n",
    "         로그인 유지\n",
    "         \n",
    "    - 한편, 아래와 같은 HTML 한 줄이 있다고 가정하자.\n",
    "        \n",
    "        <link rel=\"stylesheet\" href=\"/common/css/xe.min.css?20150910092654\" />\n",
    "    \n",
    "    - 위 소스는 HTML 태그로만 구성된 것이며 걸러낼 수 있는 순수 텍스 문자열은 존재하지 않는다.\n",
    "- 단어를 나누는 기준은 오로지 공백문자 (whitespace)이다.\n",
    "\n",
    "    - 즉, 위 순수 텍스트 문자열인 \"로그인 유지\"에서 분리한 단어는 \"로그인\"과 \"유지\"이다.\n",
    "\n",
    "- 다음은 URL로 지정된 웹페이지를 특정 문자열로 가져오는 코드이다.\n",
    "    \n",
    "    - 즉, 숙제 코드는 아래 코드로 부터 시작해야 한다."
   ]
  },
  {
   "cell_type": "code",
   "execution_count": 6,
   "metadata": {
    "collapsed": false
   },
   "outputs": [
    {
     "name": "stdout",
     "output_type": "stream",
     "text": [
      "단어의 개수 : 459\n"
     ]
    }
   ],
   "source": [
    "import urllib2\n",
    "\n",
    "source = urllib2.urlopen(\"http://cse.kut.ac.kr/\").read()\n",
    "new_source_list=[]#문자열의 copy를 위해 문자가 저장되어지는 변수\n",
    "is_copy=0#문자열 copy여부를 판단하기 위한 변수\n",
    "for i in source:\n",
    "    if i=='<':#괄호가 열리면 is_copy의 값을 0으로 주어 false처럼 사용한다.\n",
    "        is_copy=0\n",
    "    elif i=='>':#관호가 닫히면 is_copy의 값을 1을 주어 true처럼 사용한다.\n",
    "        is_copy=1\n",
    "    else:#문자의 값이 '<','>'가 아니라면 is_copy값에 따라 list에 추가할지 여부를 결정한다.\n",
    "        if is_copy==0:\n",
    "            continue\n",
    "        elif is_copy>0:\n",
    "            new_source_list.append(i)\n",
    "new_source=''.join(new_source_list)#문자열 추출이 끝났다면 list의 값들을 하나의 문자열로 만든다.\n",
    "print \"단어의 개수 :\",len(new_source.split())#문자열에서 whitespace에 따라 분할하여 개수를 파악하여 출력한다.                "
   ]
  },
  {
   "cell_type": "markdown",
   "metadata": {},
   "source": [
    "해설) 전체 문자열 source 가 있으면 태그의 특성인 괄호가 열리면 무조건 닫혀야 한다는 특징을 이용하여 괄호가 열리면 is_copy의 값을 false로 두고 괄호가 닫히면 is_copy의 값을 true로 한다. is_copy의 값은 new_souce_list에 값을 append 할지 여부를 결정하는 값으로 true일 경우에만 append를 사용한다. 문자열의 concatnate(+)를 사용하지 않는 이유는 concatnate를 사용할 경우 너무 많은 문자열 객체가 생성되었다가 삭제되는 메모리의 낭비를 초래할 것을 예상하여 list에 원소로 값을 집어 넣은뒤 join을 이용하여 한번에 문자열을 생성한다. 그다음 다시 whitespace를 기준으로 split하여 단어의 개수를 출력한다. 비록 속도면에서는 조금 더 느린 경향이 보이긴 하지만 메모리 효율을 위해서 append 연산을 사용하였다."
   ]
  },
  {
   "cell_type": "markdown",
   "metadata": {},
   "source": [
    "###느낀점\n",
    "\n",
    "어떤 언어를 사용하여 알고리즘적인 문제를 풀려면 그 언어의 연산의 특징이나 지원해주는 자료구조의 특징, 그리고 자료구조에 따른 메소드를 파악하는 것이 중요한데 두번째 과제에서는 문자열에서 지원해주는 메소드와 리스트에서 지원해주는 메소드를 이용하여 그 문제들을 해결하는데 많은 도움이 되었다. 다음 진도는 튜플과 사전구조인데 각각에 대해서 그 자료구조의 특징과 메소드들을 잘 파악하여 다음 과제도 잘 해결할 수 있는 능력을 기르겠다."
   ]
  }
 ],
 "metadata": {
  "kernelspec": {
   "display_name": "Python 2",
   "language": "python",
   "name": "python2"
  },
  "language_info": {
   "codemirror_mode": {
    "name": "ipython",
    "version": 2
   },
   "file_extension": ".py",
   "mimetype": "text/x-python",
   "name": "python",
   "nbconvert_exporter": "python",
   "pygments_lexer": "ipython2",
   "version": "2.7.9"
  }
 },
 "nbformat": 4,
 "nbformat_minor": 0
}
