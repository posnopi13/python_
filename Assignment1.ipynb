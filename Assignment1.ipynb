{
 "cells": [
  {
   "cell_type": "markdown",
   "metadata": {},
   "source": [
    "####문제1\n",
    "+ a=\"Hello Python\" 문자열을 Slicing과 연결 연산자 (+)를 사용하여 \"Python Hello\"로 변경하시오.\n",
    "    + [주의] a 변수 자체에 \"Python Hello\" 문자열이 저장되어야 함"
   ]
  },
  {
   "cell_type": "code",
   "execution_count": 2,
   "metadata": {
    "collapsed": false
   },
   "outputs": [
    {
     "name": "stdout",
     "output_type": "stream",
     "text": [
      "Python Hello\n"
     ]
    }
   ],
   "source": [
    "a = \"Hello Python\"\n",
    "a = a[6:]+\" \"+a[:5]\n",
    "print a"
   ]
  },
  {
   "cell_type": "markdown",
   "metadata": {},
   "source": [
    "####문제2\n",
    "+ b=\"Hello Python World\" 문자열을 Slicing과 연결 연산자 (+)를 사용하여 \"World Python Hello\"로 변경하시오.\n",
    "    + [주의] b 변수 자체에 \"Python Hello\" 문자열이 저장되어야 함"
   ]
  },
  {
   "cell_type": "code",
   "execution_count": 5,
   "metadata": {
    "collapsed": false
   },
   "outputs": [
    {
     "name": "stdout",
     "output_type": "stream",
     "text": [
      "World Python Hello\n"
     ]
    }
   ],
   "source": [
    "b = 'Hello Python World'\n",
    "b = b[13:]+b[5:12]+\" \"+b[:5]\n",
    "print b"
   ]
  },
  {
   "cell_type": "markdown",
   "metadata": {},
   "source": [
    "####문제3\n",
    "+ c=\"Hello\"를 \"olleH\"로 변경하시오\n",
    "    + [주의] c 변수 자체에 \"olleH\" 문자열이 저장되어야 함"
   ]
  },
  {
   "cell_type": "code",
   "execution_count": 6,
   "metadata": {
    "collapsed": false
   },
   "outputs": [
    {
     "name": "stdout",
     "output_type": "stream",
     "text": [
      "olleH\n"
     ]
    }
   ],
   "source": [
    "c='Hello'\n",
    "c = c[::-1]\n",
    "print c"
   ]
  },
  {
   "cell_type": "markdown",
   "metadata": {},
   "source": [
    "####문제4\n",
    "+ s=\"python\"에 대해 다음 문제를 풀어보시오.\n",
    "    1. s[0], s[0][0], s[0][0][0]은 각각 어떤 값이 나오는지 확인하고 그 이유를 나름대로 설명해 보시오.\n",
    "    2. s[-100], s[100]은 값이 나오는지 에러가 나오는지 확인하고 그 결과에 대한 이유를 나름대로 설명해 보시오.\n",
    "    3. s[-100, 100]은 값이 나오는지 에러가 나오는지 확인하고 그 결과에 대한 이유를 나름대로 설명해 보시오.\n",
    "    4. s[1:-1]의 결과를 확인하고 그 결과에 대한 이유를 정확하게 설명하시오.\n",
    "    5. s[3:-3]의 결과를 확인하고 그 결과에 대한 이유를 정확하게 설명하시오."
   ]
  },
  {
   "cell_type": "code",
   "execution_count": 16,
   "metadata": {
    "collapsed": false
   },
   "outputs": [
    {
     "name": "stdout",
     "output_type": "stream",
     "text": [
      "p p p\n"
     ]
    }
   ],
   "source": [
    "s = 'python'\n",
    "print s[0],s[0][0],s[0][0][0]"
   ]
  },
  {
   "cell_type": "markdown",
   "metadata": {},
   "source": [
    "해설) print s[0],s[0][0],s[0][0][0] 의 결과는 p p p 이다. 이렇게 나오는 이유는 s[0]을 했을 때 반환되는 타입이 문자열이기때문이다.\n",
    "즉, s[0]은 문자열 \"p\"를 의미하는 것이며 s[0][0]은 문자열 \"s\"에서 첫번째 원소 즉 \"s\"를 의미하는 것이다.\n",
    "마찬가지로 s[0][0][0]은 문자열 \"s\"의 첫번째 문자인 \"s\"의 첫번째 문자인 \"s\"를 의미하기에 p라는 값이 계속적으로 나온다.\n",
    "이것은 계속적으로 인덱스 값이 0인이상 s[0][0][0][0][0][0][0][0][0][0][0][0][0][0][0][0][0][0][0][0][0][0][0][0][0][0]라는 값 또한 \"p\"가\n",
    "될 것이다."
   ]
  },
  {
   "cell_type": "code",
   "execution_count": 21,
   "metadata": {
    "collapsed": false
   },
   "outputs": [
    {
     "ename": "IndexError",
     "evalue": "string index out of range",
     "output_type": "error",
     "traceback": [
      "\u001b[1;31m---------------------------------------------------------------------------\u001b[0m",
      "\u001b[1;31mIndexError\u001b[0m                                Traceback (most recent call last)",
      "\u001b[1;32m<ipython-input-21-b360b27034d7>\u001b[0m in \u001b[0;36m<module>\u001b[1;34m()\u001b[0m\n\u001b[0;32m      1\u001b[0m \u001b[0ms\u001b[0m \u001b[1;33m=\u001b[0m \u001b[1;34m'python'\u001b[0m\u001b[1;33m\u001b[0m\u001b[0m\n\u001b[1;32m----> 2\u001b[1;33m \u001b[1;32mprint\u001b[0m \u001b[0ms\u001b[0m\u001b[1;33m[\u001b[0m\u001b[1;33m-\u001b[0m\u001b[1;36m100\u001b[0m\u001b[1;33m]\u001b[0m\u001b[1;33m,\u001b[0m\u001b[0ms\u001b[0m\u001b[1;33m[\u001b[0m\u001b[1;36m100\u001b[0m\u001b[1;33m]\u001b[0m\u001b[1;33m\u001b[0m\u001b[0m\n\u001b[0m",
      "\u001b[1;31mIndexError\u001b[0m: string index out of range"
     ]
    }
   ],
   "source": [
    "s = 'python'\n",
    "print s[-100],s[100]"
   ]
  },
  {
   "cell_type": "markdown",
   "metadata": {},
   "source": [
    "해설) s[-100],s[100] 의 결과는 error 이다. 그 이유는 s의 문자열인 \"python\"의 최고 인덱스는 5이기 때문이다. 문자열에서 인덱스 값을 넘어가는\n",
    "것은 오류를 범하게 되는 것이다 인덱스 값이 음수인 것은 가상으로 끝자리부터 -1로 매칭 시키는데 이것도 -6까지이기 때문에 오류가 나온다."
   ]
  },
  {
   "cell_type": "code",
   "execution_count": 23,
   "metadata": {
    "collapsed": false
   },
   "outputs": [
    {
     "ename": "TypeError",
     "evalue": "string indices must be integers, not tuple",
     "output_type": "error",
     "traceback": [
      "\u001b[1;31m---------------------------------------------------------------------------\u001b[0m",
      "\u001b[1;31mTypeError\u001b[0m                                 Traceback (most recent call last)",
      "\u001b[1;32m<ipython-input-23-a841a2b7c96a>\u001b[0m in \u001b[0;36m<module>\u001b[1;34m()\u001b[0m\n\u001b[0;32m      1\u001b[0m \u001b[0ms\u001b[0m \u001b[1;33m=\u001b[0m \u001b[1;34m\"python\"\u001b[0m\u001b[1;33m\u001b[0m\u001b[0m\n\u001b[1;32m----> 2\u001b[1;33m \u001b[0ms\u001b[0m\u001b[1;33m[\u001b[0m\u001b[1;33m-\u001b[0m\u001b[1;36m100\u001b[0m\u001b[1;33m,\u001b[0m \u001b[1;36m100\u001b[0m\u001b[1;33m]\u001b[0m\u001b[1;33m\u001b[0m\u001b[0m\n\u001b[0m",
      "\u001b[1;31mTypeError\u001b[0m: string indices must be integers, not tuple"
     ]
    }
   ],
   "source": [
    "s = \"python\"\n",
    "s[-100, 100]"
   ]
  },
  {
   "cell_type": "markdown",
   "metadata": {},
   "source": [
    "해설) s[-100, 100]은 당연히 오류가 발생한다. []안에는 integer형태만 들어갈 수 있기 때문이다. 배열의 인덱스 []안에 콤마를 찍는 문법은 존재하지\n",
    "않는다."
   ]
  },
  {
   "cell_type": "code",
   "execution_count": 24,
   "metadata": {
    "collapsed": false
   },
   "outputs": [
    {
     "name": "stdout",
     "output_type": "stream",
     "text": [
      "ytho\n"
     ]
    }
   ],
   "source": [
    "s = \"python\"\n",
    "print s[1:-1]"
   ]
  },
  {
   "cell_type": "markdown",
   "metadata": {},
   "source": [
    "해설) 문자열의 슬라이싱은 [a:b]일때, a는 include b는 exclude이다. 그렇기에 인덱스 1인 y를 포함한 지점부터 인덱스 -1인 n을 제외한 영역인\n",
    "\"ytho\"가 출력된다"
   ]
  },
  {
   "cell_type": "code",
   "execution_count": 29,
   "metadata": {
    "collapsed": false
   },
   "outputs": [
    {
     "name": "stdout",
     "output_type": "stream",
     "text": [
      "\n"
     ]
    }
   ],
   "source": [
    "s = \"python\"\n",
    "print s[3:-3]"
   ]
  },
  {
   "cell_type": "markdown",
   "metadata": {},
   "source": [
    "해설) 아무값도 출력되지 않는다. 그 이유는 3은 h이고 -3도 h이므로 제외하고 출력이 된다. 뒤에 익덱스는 exclude 된다는 것을 잊지말자"
   ]
  },
  {
   "cell_type": "markdown",
   "metadata": {},
   "source": [
    "####문제5\n",
    "+ for문을 활용하여 1부터 100사이의 홀수를 출력하시오."
   ]
  },
  {
   "cell_type": "code",
   "execution_count": 30,
   "metadata": {
    "collapsed": false
   },
   "outputs": [
    {
     "name": "stdout",
     "output_type": "stream",
     "text": [
      "1\n",
      "3\n",
      "5\n",
      "7\n",
      "9\n",
      "11\n",
      "13\n",
      "15\n",
      "17\n",
      "19\n",
      "21\n",
      "23\n",
      "25\n",
      "27\n",
      "29\n",
      "31\n",
      "33\n",
      "35\n",
      "37\n",
      "39\n",
      "41\n",
      "43\n",
      "45\n",
      "47\n",
      "49\n",
      "51\n",
      "53\n",
      "55\n",
      "57\n",
      "59\n",
      "61\n",
      "63\n",
      "65\n",
      "67\n",
      "69\n",
      "71\n",
      "73\n",
      "75\n",
      "77\n",
      "79\n",
      "81\n",
      "83\n",
      "85\n",
      "87\n",
      "89\n",
      "91\n",
      "93\n",
      "95\n",
      "97\n",
      "99\n"
     ]
    }
   ],
   "source": [
    "for i in range(1,101,2):\n",
    "    print i"
   ]
  },
  {
   "cell_type": "markdown",
   "metadata": {},
   "source": [
    "해설) range(1,101,2)를 하면 1부터 100까지의 수의 리스트를 가지고 거기다 step을 2로두면 홀수란 정수 수가 2를 주기로 형성되므로 홀수가 출력이 된다."
   ]
  },
  {
   "cell_type": "markdown",
   "metadata": {},
   "source": [
    "####문제6\n",
    "+ while문을 활용하여 1부터 100사이의 짝수의 합을 계산하여 출력하시오."
   ]
  },
  {
   "cell_type": "code",
   "execution_count": 32,
   "metadata": {
    "collapsed": false
   },
   "outputs": [
    {
     "name": "stdout",
     "output_type": "stream",
     "text": [
      "2550\n"
     ]
    }
   ],
   "source": [
    "i=2\n",
    "sum =0\n",
    "while i<=100:\n",
    "    sum += i\n",
    "    i+=2\n",
    "print sum\n"
   ]
  },
  {
   "cell_type": "markdown",
   "metadata": {},
   "source": [
    "해설) while문의 조건이 i가 100 이하일 경우로 두고 반복할수록 i의 값이 2가 증가하도록하여 while문이 반복되는 동안 sum에 i를 더하는 형식으로 1~100사이의 짝수를 더하였다.  "
   ]
  },
  {
   "cell_type": "markdown",
   "metadata": {},
   "source": [
    "####문제7\n",
    "+ 사용자로 부터 임의의 정수를 입력받고, 해당 숫자를 역순으로 출력하는 프로그램을 작성하시오."
   ]
  },
  {
   "cell_type": "code",
   "execution_count": 2,
   "metadata": {
    "collapsed": false
   },
   "outputs": [
    {
     "name": "stdout",
     "output_type": "stream",
     "text": [
      "123456789\n",
      "<type 'int'>\n",
      "987654321\n"
     ]
    }
   ],
   "source": [
    "a=input()\n",
    "b=str(a)\n",
    "a=int(b[::-1])\n",
    "print type(a)\n",
    "print a"
   ]
  },
  {
   "cell_type": "markdown",
   "metadata": {},
   "source": [
    "해설) 정수를 입력 받은 뒤 문자열로 바꾼후 문자열의 스텝을 -1로 하여 역순으로 한 뒤 다시 정수형으로 바꾸어서 출력하였다."
   ]
  },
  {
   "cell_type": "markdown",
   "metadata": {},
   "source": [
    "####문제8\n",
    "+ 사용자로 부터 정수를 입력받아서 1부터 그 사이에 존재하는 소수 (Prime number)를 출력하는 파이썬 프로그램을 작성하시오."
   ]
  },
  {
   "cell_type": "code",
   "execution_count": 26,
   "metadata": {
    "collapsed": false
   },
   "outputs": [
    {
     "name": "stdout",
     "output_type": "stream",
     "text": [
      "입력한 정수 :\n",
      "30\n",
      "2\n",
      "3\n",
      "5\n",
      "7\n",
      "11\n",
      "13\n",
      "17\n",
      "19\n",
      "23\n",
      "29\n"
     ]
    }
   ],
   "source": [
    "import math\n",
    "print \"입력한 정수 :\"\n",
    "a = input()\n",
    "for i in range(2,a):\n",
    "    count=True\n",
    "    for j in range(2,int(math.sqrt(i))+1):\n",
    "        if i%j==0:\n",
    "            count=False\n",
    "    if count==True:\n",
    "        print i"
   ]
  },
  {
   "cell_type": "markdown",
   "metadata": {},
   "source": [
    "해설) 정수 입력은 input()으로 해결 하였고, 정수를 입력 받아서 1~입력한수 까지 for문 반복문으로 만들어 놓았다.\n",
    "그 다음 소수인지 판별하기 위하여 2~ int(math.sqrt(i))+1 까지 반복하는 것으로 설정하였다. 그 이유는 굳이 i-1까지 반복문을 돌릴 필요가 없기\n",
    "때문이다. 기존에 int(math.ceil(math.sqrt(i)))으로 하였지만 i가 4나 9일 경우 올림이 안되기 때문에 int(math.sqrt(i))+1로 바꿔 소스를 작성하였다."
   ]
  },
  {
   "cell_type": "markdown",
   "metadata": {},
   "source": [
    "####문제9 - 프로젝트 오일러 1\n",
    "+ 10보다 작은 자연수 중에서 3 또는 5의 배수는 3, 5, 6, 9 이고, 이것을 모두 더하면 23입니다.\n",
    "\n",
    "   1000보다 작은 자연수 중에서 3 또는 5의 배수를 모두 더하면 얼마일까요?"
   ]
  },
  {
   "cell_type": "code",
   "execution_count": 28,
   "metadata": {
    "collapsed": false
   },
   "outputs": [
    {
     "name": "stdout",
     "output_type": "stream",
     "text": [
      "233168\n"
     ]
    }
   ],
   "source": [
    "sum3 = 0\n",
    "sum5 = 0\n",
    "sub = 0\n",
    "for i in range(3,1000,3):\n",
    "    sum3+=i\n",
    "for j in range(5,1000,5):\n",
    "    sum5+=j\n",
    "for k in range(15,1000,15):\n",
    "    sub += k\n",
    "print sum3 + sum5 -sub    "
   ]
  },
  {
   "cell_type": "code",
   "execution_count": null,
   "metadata": {
    "collapsed": true
   },
   "outputs": [],
   "source": []
  },
  {
   "cell_type": "markdown",
   "metadata": {},
   "source": [
    "####문제10 - 프로젝트 오일러 2\n",
    "+ 피보나치 수열의 각 항은 바로 앞의 항 두 개를 더한 것이 됩니다. 1과 2로 시작하는 경우 이 수열은 아래와 같습니다.\n",
    "\n",
    "    1, 2, 3, 5, 8, 13, 21, 34, 55, 89, ...\n",
    "    짝수이면서 4백만 이하인 모든 항을 더하면 얼마가 됩니까?"
   ]
  },
  {
   "cell_type": "code",
   "execution_count": 33,
   "metadata": {
    "collapsed": false
   },
   "outputs": [
    {
     "name": "stdout",
     "output_type": "stream",
     "text": [
      "2\n",
      "8\n",
      "34\n",
      "144\n",
      "610\n",
      "2584\n",
      "10946\n",
      "46368\n",
      "196418\n",
      "832040\n",
      "3524578\n",
      "정답은  4613732\n"
     ]
    }
   ],
   "source": [
    "a = [1]\n",
    "a.append(2)\n",
    "i = 1\n",
    "sum =0\n",
    "while a[len(a)-1]<4000000:\n",
    "    a.append(a[i]+a[i-1])\n",
    "    i=i+1\n",
    "for i in a:\n",
    "    if i%2==0:\n",
    "        print i\n",
    "        sum += i\n",
    "print \"정답은 \",sum   "
   ]
  },
  {
   "cell_type": "code",
   "execution_count": null,
   "metadata": {
    "collapsed": true
   },
   "outputs": [],
   "source": []
  },
  {
   "cell_type": "markdown",
   "metadata": {},
   "source": [
    "####문제11 - 프로젝트 오일러 3\n",
    "+ 어떤 수를 소수의 곱으로만 나타내는 것을 소인수분해라 하고, 이 소수들을 그 수의 소인수라고 합니다.  \n",
    "  예를 들면 13195의 소인수는 5, 7, 13, 29 입니다.\n",
    "\n",
    "  600851475143의 소인수 중에서 가장 큰 수를 구하세요."
   ]
  },
  {
   "cell_type": "code",
   "execution_count": 41,
   "metadata": {
    "collapsed": false
   },
   "outputs": [
    {
     "name": "stdout",
     "output_type": "stream",
     "text": [
      "71\n",
      "839\n",
      "1471\n",
      "6857\n",
      "정답은 :\n",
      "6857\n"
     ]
    }
   ],
   "source": [
    "sum = 600851475143\n",
    "i = 2\n",
    "answer=0\n",
    "while sum!=1:  \n",
    "    if sum%i==0:\n",
    "        sum = sum/i\n",
    "        print i\n",
    "        i=i-1\n",
    "    i=i+1\n",
    "print '정답은 :'\n",
    "print i"
   ]
  },
  {
   "cell_type": "markdown",
   "metadata": {},
   "source": [
    "해설) 어떤 수의 소인수중 가장 큰 값을 구하려면 일단 그 수에 포함되어 있는 소수들을 차례 차례 골라내야 한다. 그러려면 \n",
    "방법은 소수인 집합을 구한뒤 그 수들로 차례차례 나누어서 나머지가 0이 되는 값을 찾거나 아니면 문제에서 이미 주어진 수는 소인수의 곱으로\n",
    "나타내었다고 힌트를주었기 때문에 2부터 차례차례 1을 더해가면서 소수들을 구하면 된다. 하지만 이렇게 구할시에 문제점은 만약\n",
    "같은 수의 소수들의 곱으로 곱해진경우(37*37*37)같은 경우를 조심해야 한다. 그렇기에 소수를 구한 순간 다시 하번 그수로 나누어 \n",
    "중복된 소수로 이루어져 있지 않은가를 확인해야 한다."
   ]
  },
  {
   "cell_type": "markdown",
   "metadata": {},
   "source": [
    "### 소감\n",
    "처음 문제여서 쉬웠지만 오일러 문제의 경우 갈수록 푼사람의 수가 줄어드는 것이 보입니다. 그렇기에 미리미리 평소 문제를 보고 수업시간에 배운것과 어떻게 매칭시켜서 풀지를 고민해야 합니다. 이번문제의 경우 python 의 간단함을 볼 수 있었던 문제는 7번이었던 것 같습니다. 자바의 경우 문자열로 바꾸는 것은 쉽지만 다시 정수로 바꿀경우 클래스의 메소드인 parseInt를 사용하여 변환하지만 파이썬은 간단하게 int()를 쓰는것이 간단해야 좋았습니다. 처음 e-learning에서 강의 목록을 봤을 때 기본 문법을 너무 오래 끌지 않을까 생각했는데 한주에 2개씩 들으니 진도가 빨라서 좋았습니다.\n",
    "수업이 끝나면 자바처럼 파이썬으로도 프로젝트를 만들정도의 실력이 되어있었으면 좋겠습니다."
   ]
  }
 ],
 "metadata": {
  "kernelspec": {
   "display_name": "Python 2",
   "language": "python",
   "name": "python2"
  },
  "language_info": {
   "codemirror_mode": {
    "name": "ipython",
    "version": 2
   },
   "file_extension": ".py",
   "mimetype": "text/x-python",
   "name": "python",
   "nbconvert_exporter": "python",
   "pygments_lexer": "ipython2",
   "version": "2.7.9"
  }
 },
 "nbformat": 4,
 "nbformat_minor": 0
}
