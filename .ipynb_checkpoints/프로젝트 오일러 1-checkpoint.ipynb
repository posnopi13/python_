{
 "cells": [
  {
   "cell_type": "code",
   "execution_count": 2,
   "metadata": {
    "collapsed": false
   },
   "outputs": [
    {
     "name": "stdout",
     "output_type": "stream",
     "text": [
      "233168\n"
     ]
    }
   ],
   "source": [
    "sum3 = 0\n",
    "sum5 = 0\n",
    "sub = 0\n",
    "for i in range(3,1000,3):\n",
    "    sum3+=i\n",
    "for j in range(5,1000,5):\n",
    "    sum5+=j\n",
    "for k in range(15,1000,15):\n",
    "    sub += k\n",
    "print sum3 + sum5 -sub    \n"
   ]
  },
  {
   "cell_type": "code",
   "execution_count": 3,
   "metadata": {
    "collapsed": false
   },
   "outputs": [
    {
     "name": "stdout",
     "output_type": "stream",
     "text": [
      "2\n",
      "8\n",
      "34\n",
      "144\n",
      "610\n",
      "2584\n",
      "10946\n",
      "46368\n",
      "196418\n",
      "832040\n",
      "3524578\n",
      "정답은  4613732\n"
     ]
    }
   ],
   "source": [
    "a = [1]\n",
    "a.append(2)\n",
    "i = 1\n",
    "sum =0\n",
    "while a[len(a)-1]<4000000:\n",
    "    a.append(a[i]+a[i-1])\n",
    "    i=i+1\n",
    "for i in a:\n",
    "    if i%2==0:\n",
    "        print i\n",
    "        sum += i\n",
    "print \"정답은 \",sum\n",
    "    \n",
    "    \n",
    "    "
   ]
  },
  {
   "cell_type": "code",
   "execution_count": null,
   "metadata": {
    "collapsed": true
   },
   "outputs": [],
   "source": [
    "sum = 600851475143\n",
    "i = 2\n",
    "\n",
    "while sum!=0:\n",
    "    if sum%i==0:\n",
    "        sum = sum/i\n",
    "        print i\n",
    "    i=i+1\n",
    "print 'the end'    "
   ]
  }
 ],
 "metadata": {
  "kernelspec": {
   "display_name": "Python 2",
   "language": "python",
   "name": "python2"
  },
  "language_info": {
   "codemirror_mode": {
    "name": "ipython",
    "version": 2
   },
   "file_extension": ".py",
   "mimetype": "text/x-python",
   "name": "python",
   "nbconvert_exporter": "python",
   "pygments_lexer": "ipython2",
   "version": "2.7.9"
  }
 },
 "nbformat": 4,
 "nbformat_minor": 0
}
